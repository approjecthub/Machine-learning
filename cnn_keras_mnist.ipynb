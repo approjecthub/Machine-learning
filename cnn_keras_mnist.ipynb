{
  "nbformat": 4,
  "nbformat_minor": 0,
  "metadata": {
    "colab": {
      "name": "cnn_keras_mnist.ipynb",
      "version": "0.3.2",
      "provenance": [],
      "include_colab_link": true
    },
    "kernelspec": {
      "name": "python3",
      "display_name": "Python 3"
    },
    "accelerator": "GPU"
  },
  "cells": [
    {
      "cell_type": "markdown",
      "metadata": {
        "id": "view-in-github",
        "colab_type": "text"
      },
      "source": [
        "<a href=\"https://colab.research.google.com/github/approjecthub/Machine-learning/blob/master/cnn_keras_mnist.ipynb\" target=\"_parent\"><img src=\"https://colab.research.google.com/assets/colab-badge.svg\" alt=\"Open In Colab\"/></a>"
      ]
    },
    {
      "cell_type": "code",
      "metadata": {
        "id": "4sd-C24q_ENj",
        "colab_type": "code",
        "outputId": "3a7ebc79-e733-4010-f9a5-d3ce92b16567",
        "colab": {
          "base_uri": "https://localhost:8080/",
          "height": 34
        }
      },
      "source": [
        "# import the necessary packages\n",
        "from keras import backend as K\n",
        "from keras.models import Sequential\n",
        "from keras.layers.convolutional import Conv2D\n",
        "from keras.layers.convolutional import MaxPooling2D\n",
        "from keras.layers.core import Activation\n",
        "from keras.layers.core import Flatten\n",
        "from keras.layers.core import Dense\n",
        "from keras.datasets import mnist\n",
        "from keras.utils import np_utils\n",
        "from keras.optimizers import SGD, RMSprop, Adam\n",
        "import numpy as np\n",
        "\n",
        "import matplotlib.pyplot as plt"
      ],
      "execution_count": 1,
      "outputs": [
        {
          "output_type": "stream",
          "text": [
            "Using TensorFlow backend.\n"
          ],
          "name": "stderr"
        }
      ]
    },
    {
      "cell_type": "code",
      "metadata": {
        "id": "HHSDbPADEzVj",
        "colab_type": "code",
        "colab": {}
      },
      "source": [
        "np.random.seed(1671)  # for reproducibility"
      ],
      "execution_count": 0,
      "outputs": []
    },
    {
      "cell_type": "code",
      "metadata": {
        "id": "bpFHmBcoE5Xl",
        "colab_type": "code",
        "colab": {}
      },
      "source": [
        "#define the convnet \n",
        "class LeNet:\n",
        "\t@staticmethod\n",
        "\tdef build(input_shape, classes):\n",
        "\t\tmodel = Sequential()\n",
        "\t\t# CONV => RELU => POOL\n",
        "\t\tmodel.add(Conv2D(20, kernel_size=5, padding=\"same\",\n",
        "\t\t\tinput_shape=input_shape))\n",
        "\t\tmodel.add(Activation(\"relu\"))\n",
        "\t\tmodel.add(MaxPooling2D(pool_size=(2, 2), strides=(2, 2)))\n",
        "\t\t# CONV => RELU => POOL\n",
        "\t\tmodel.add(Conv2D(50, kernel_size=5, padding=\"same\"))\n",
        "\t\tmodel.add(Activation(\"relu\"))\n",
        "\t\tmodel.add(MaxPooling2D(pool_size=(2, 2), strides=(2, 2)))\n",
        "\t\t# Flatten => RELU layers\n",
        "\t\tmodel.add(Flatten())\n",
        "\t\tmodel.add(Dense(500))\n",
        "\t\tmodel.add(Activation(\"relu\"))\n",
        " \n",
        "\t\t# a softmax classifier\n",
        "\t\tmodel.add(Dense(classes))\n",
        "\t\tmodel.add(Activation(\"softmax\"))\n",
        "\n",
        "\t\treturn model\n"
      ],
      "execution_count": 0,
      "outputs": []
    },
    {
      "cell_type": "code",
      "metadata": {
        "id": "ZldVBZpnFn5M",
        "colab_type": "code",
        "colab": {}
      },
      "source": [
        "# network and training\n",
        "NB_EPOCH = 20\n",
        "BATCH_SIZE = 128\n",
        "VERBOSE = 1\n",
        "OPTIMIZER = Adam()\n",
        "VALIDATION_SPLIT=0.2\n",
        "\n",
        "IMG_ROWS, IMG_COLS = 28, 28 # input image dimensions\n",
        "NB_CLASSES = 10  # number of outputs = number of digits\n",
        "INPUT_SHAPE = (1, IMG_ROWS, IMG_COLS)\n"
      ],
      "execution_count": 0,
      "outputs": []
    },
    {
      "cell_type": "code",
      "metadata": {
        "id": "hlK2_MeoJAvc",
        "colab_type": "code",
        "outputId": "ef65811b-0854-4123-d8f6-69ad2a7b002d",
        "colab": {
          "base_uri": "https://localhost:8080/",
          "height": 51
        }
      },
      "source": [
        "# data: shuffled and split between train and test sets\n",
        "(X_train, y_train), (X_test, y_test) = mnist.load_data()\n",
        "K.set_image_dim_ordering(\"th\")"
      ],
      "execution_count": 5,
      "outputs": [
        {
          "output_type": "stream",
          "text": [
            "Downloading data from https://s3.amazonaws.com/img-datasets/mnist.npz\n",
            "11493376/11490434 [==============================] - 1s 0us/step\n"
          ],
          "name": "stdout"
        }
      ]
    },
    {
      "cell_type": "code",
      "metadata": {
        "id": "Vn5EEg5GJVUe",
        "colab_type": "code",
        "colab": {}
      },
      "source": [
        "# consider them as float and normalize\n",
        "X_train = X_train.astype('float32')\n",
        "X_test = X_test.astype('float32')\n",
        "X_train /= 255 \n",
        "X_test /= 255  \n"
      ],
      "execution_count": 0,
      "outputs": []
    },
    {
      "cell_type": "code",
      "metadata": {
        "id": "4CPaukBzJehG",
        "colab_type": "code",
        "outputId": "449b764f-87b2-41b9-8d0c-9d897d1eb236",
        "colab": {
          "base_uri": "https://localhost:8080/",
          "height": 102
        }
      },
      "source": [
        "print(X_train.shape, 'train samples')\n",
        "print(X_test.shape, 'test samples')\n",
        "print('-------------------------------------------------------')\n",
        "\n",
        "# we need a 60K x [1 x 28 x 28] shape as input to the CONVNET\n",
        "X_train = X_train[:, np.newaxis, :, :]\n",
        "X_test = X_test[:, np.newaxis, :, :]\n",
        "\n",
        "print(X_train.shape, 'train samples')\n",
        "print(X_test.shape, 'test samples')"
      ],
      "execution_count": 7,
      "outputs": [
        {
          "output_type": "stream",
          "text": [
            "(60000, 28, 28) train samples\n",
            "(10000, 28, 28) test samples\n",
            "-------------------------------------------------------\n",
            "(60000, 1, 28, 28) train samples\n",
            "(10000, 1, 28, 28) test samples\n"
          ],
          "name": "stdout"
        }
      ]
    },
    {
      "cell_type": "code",
      "metadata": {
        "id": "Mv_PKki65lxs",
        "colab_type": "code",
        "colab": {
          "base_uri": "https://localhost:8080/",
          "height": 286
        },
        "outputId": "39aaa485-b1cb-4027-a326-f13764c81500"
      },
      "source": [
        "# Visualise trainig data\n",
        "plt.imshow(X_train[0].reshape(28,28))\n",
        "\n",
        "print('image label', y_train[0])"
      ],
      "execution_count": 12,
      "outputs": [
        {
          "output_type": "stream",
          "text": [
            "image label 5\n"
          ],
          "name": "stdout"
        },
        {
          "output_type": "display_data",
          "data": {
            "image/png": "[encoded data removed]",
            "text/plain": [
              "<Figure size 432x288 with 1 Axes>"
            ]
          },
          "metadata": {
            "tags": []
          }
        }
      ]
    },
    {
      "cell_type": "code",
      "metadata": {
        "id": "ECTHC4DNJ0vQ",
        "colab_type": "code",
        "colab": {}
      },
      "source": [
        "# convert class vectors to binary class matrices\n",
        "y_train = np_utils.to_categorical(y_train, NB_CLASSES)\n",
        "y_test = np_utils.to_categorical(y_test, NB_CLASSES)\n"
      ],
      "execution_count": 0,
      "outputs": []
    },
    {
      "cell_type": "code",
      "metadata": {
        "id": "bbU7SDveJ9QV",
        "colab_type": "code",
        "outputId": "f6397584-87e5-4a70-dd99-1bdaf8095782",
        "colab": {
          "base_uri": "https://localhost:8080/",
          "height": 802
        }
      },
      "source": [
        "# initialize the optimizer and model\n",
        "model = LeNet.build(input_shape=INPUT_SHAPE, classes=NB_CLASSES)\n",
        "model.compile(loss=\"categorical_crossentropy\", optimizer=OPTIMIZER,\n",
        "\tmetrics=[\"accuracy\"])\n",
        "\n",
        "history = model.fit(X_train, y_train, \n",
        "\t\tbatch_size=BATCH_SIZE, epochs=NB_EPOCH, \n",
        "\t\tverbose=VERBOSE, validation_split=VALIDATION_SPLIT)\n",
        "\n",
        "score = model.evaluate(X_test, y_test, verbose=VERBOSE)"
      ],
      "execution_count": 0,
      "outputs": [
        {
          "output_type": "stream",
          "text": [
            "WARNING:tensorflow:From /usr/local/lib/python3.6/dist-packages/tensorflow/python/ops/math_ops.py:3066: to_int32 (from tensorflow.python.ops.math_ops) is deprecated and will be removed in a future version.\n",
            "Instructions for updating:\n",
            "Use tf.cast instead.\n",
            "Train on 48000 samples, validate on 12000 samples\n",
            "Epoch 1/20\n",
            "48000/48000 [==============================] - 8s 176us/step - loss: 0.1811 - acc: 0.9439 - val_loss: 0.0624 - val_acc: 0.9800\n",
            "Epoch 2/20\n",
            "48000/48000 [==============================] - 5s 109us/step - loss: 0.0517 - acc: 0.9842 - val_loss: 0.0496 - val_acc: 0.9845\n",
            "Epoch 3/20\n",
            "48000/48000 [==============================] - 5s 109us/step - loss: 0.0342 - acc: 0.9900 - val_loss: 0.0419 - val_acc: 0.9869\n",
            "Epoch 4/20\n",
            "48000/48000 [==============================] - 5s 110us/step - loss: 0.0244 - acc: 0.9920 - val_loss: 0.0419 - val_acc: 0.9855\n",
            "Epoch 5/20\n",
            "48000/48000 [==============================] - 5s 112us/step - loss: 0.0182 - acc: 0.9937 - val_loss: 0.0360 - val_acc: 0.9888\n",
            "Epoch 6/20\n",
            "48000/48000 [==============================] - 5s 112us/step - loss: 0.0126 - acc: 0.9957 - val_loss: 0.0361 - val_acc: 0.9886\n",
            "Epoch 7/20\n",
            "48000/48000 [==============================] - 5s 112us/step - loss: 0.0107 - acc: 0.9965 - val_loss: 0.0372 - val_acc: 0.9892\n",
            "Epoch 8/20\n",
            "48000/48000 [==============================] - 5s 112us/step - loss: 0.0102 - acc: 0.9966 - val_loss: 0.0460 - val_acc: 0.9873\n",
            "Epoch 9/20\n",
            "48000/48000 [==============================] - 5s 112us/step - loss: 0.0082 - acc: 0.9975 - val_loss: 0.0367 - val_acc: 0.9897\n",
            "Epoch 10/20\n",
            "48000/48000 [==============================] - 5s 111us/step - loss: 0.0064 - acc: 0.9978 - val_loss: 0.0367 - val_acc: 0.9916\n",
            "Epoch 11/20\n",
            "48000/48000 [==============================] - 5s 111us/step - loss: 0.0078 - acc: 0.9973 - val_loss: 0.0419 - val_acc: 0.9910\n",
            "Epoch 12/20\n",
            "48000/48000 [==============================] - 5s 112us/step - loss: 0.0050 - acc: 0.9983 - val_loss: 0.0634 - val_acc: 0.9870\n",
            "Epoch 13/20\n",
            "48000/48000 [==============================] - 5s 111us/step - loss: 0.0076 - acc: 0.9974 - val_loss: 0.0444 - val_acc: 0.9893\n",
            "Epoch 14/20\n",
            "48000/48000 [==============================] - 5s 112us/step - loss: 0.0041 - acc: 0.9986 - val_loss: 0.0485 - val_acc: 0.9910\n",
            "Epoch 15/20\n",
            "48000/48000 [==============================] - 5s 112us/step - loss: 0.0047 - acc: 0.9982 - val_loss: 0.0488 - val_acc: 0.9906\n",
            "Epoch 16/20\n",
            "48000/48000 [==============================] - 5s 112us/step - loss: 0.0031 - acc: 0.9992 - val_loss: 0.0400 - val_acc: 0.9913\n",
            "Epoch 17/20\n",
            "48000/48000 [==============================] - 5s 111us/step - loss: 0.0038 - acc: 0.9987 - val_loss: 0.0438 - val_acc: 0.9916\n",
            "Epoch 18/20\n",
            "48000/48000 [==============================] - 5s 111us/step - loss: 0.0040 - acc: 0.9986 - val_loss: 0.0516 - val_acc: 0.9882\n",
            "Epoch 19/20\n",
            "48000/48000 [==============================] - 5s 112us/step - loss: 0.0046 - acc: 0.9988 - val_loss: 0.0454 - val_acc: 0.9898\n",
            "Epoch 20/20\n",
            "48000/48000 [==============================] - 5s 109us/step - loss: 0.0040 - acc: 0.9986 - val_loss: 0.0432 - val_acc: 0.9922\n",
            "10000/10000 [==============================] - 1s 80us/step\n"
          ],
          "name": "stdout"
        }
      ]
    },
    {
      "cell_type": "code",
      "metadata": {
        "id": "9B7nksbtKJEK",
        "colab_type": "code",
        "outputId": "252a31ab-22a2-4d6e-e961-e950ee31aedf",
        "colab": {
          "base_uri": "https://localhost:8080/",
          "height": 68
        }
      },
      "source": [
        "print(\"\\nTest score:\", score[0])\n",
        "print('Test accuracy:', score[1])"
      ],
      "execution_count": 0,
      "outputs": [
        {
          "output_type": "stream",
          "text": [
            "\n",
            "Test score: 0.029047093716733162\n",
            "Test accuracy: 0.9929\n"
          ],
          "name": "stdout"
        }
      ]
    },
    {
      "cell_type": "code",
      "metadata": {
        "id": "wtnwhEQAKe6P",
        "colab_type": "code",
        "outputId": "1669eb61-e31e-40af-d4f9-e05f75b66930",
        "colab": {
          "base_uri": "https://localhost:8080/",
          "height": 393
        }
      },
      "source": [
        "# list all data in history\n",
        "print(history.history.keys())\n",
        "# summarize history for accuracy\n",
        "plt.plot(history.history['acc'])\n",
        "plt.plot(history.history['val_acc'])\n",
        "plt.title('model accuracy')\n",
        "plt.ylabel('accuracy')\n",
        "plt.xlabel('epoch')\n",
        "plt.legend(['train', 'test'], loc='upper left')\n",
        "plt.show()"
      ],
      "execution_count": 0,
      "outputs": [
        {
          "output_type": "stream",
          "text": [
            "dict_keys(['val_loss', 'val_acc', 'loss', 'acc'])\n"
          ],
          "name": "stdout"
        },
        {
          "output_type": "display_data",
          "data": {
            "image/png": "[encoded data removed]",
            "text/plain": [
              "<Figure size 576x396 with 1 Axes>"
            ]
          },
          "metadata": {
            "tags": []
          }
        }
      ]
    },
    {
      "cell_type": "code",
      "metadata": {
        "id": "3VYKi83yKgAe",
        "colab_type": "code",
        "outputId": "a4d3c25b-d756-4288-ffb3-74edb7b2e537",
        "colab": {
          "base_uri": "https://localhost:8080/",
          "height": 376
        }
      },
      "source": [
        "\n",
        "# summarize history for loss\n",
        "plt.plot(history.history['loss'])\n",
        "plt.plot(history.history['val_loss'])\n",
        "plt.title('model loss')\n",
        "plt.ylabel('loss')\n",
        "plt.xlabel('epoch')\n",
        "plt.legend(['train', 'test'], loc='upper left')\n",
        "plt.show()"
      ],
      "execution_count": 0,
      "outputs": [
        {
          "output_type": "display_data",
          "data": {
            "image/png": "[encoded data removed]",
            "text/plain": [
              "<Figure size 576x396 with 1 Axes>"
            ]
          },
          "metadata": {
            "tags": []
          }
        }
      ]
    },
    {
      "cell_type": "code",
      "metadata": {
        "id": "nzGkwYsQKugf",
        "colab_type": "code",
        "colab": {}
      },
      "source": [
        ""
      ],
      "execution_count": 0,
      "outputs": []
    }
  ]
}