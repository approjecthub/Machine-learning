{
  "nbformat": 4,
  "nbformat_minor": 0,
  "metadata": {
    "colab": {
      "name": "Facial Emotion Recognition.ipynb",
      "version": "0.3.2",
      "provenance": [],
      "include_colab_link": true
    },
    "kernelspec": {
      "name": "python3",
      "display_name": "Python 3"
    },
    "accelerator": "GPU"
  },
  "cells": [
    {
      "cell_type": "markdown",
      "metadata": {
        "id": "view-in-github",
        "colab_type": "text"
      },
      "source": [
        "<a href=\"https://colab.research.google.com/github/approjecthub/Machine-learning/blob/master/Facial_Emotion_Recognition.ipynb\" target=\"_parent\"><img src=\"https://colab.research.google.com/assets/colab-badge.svg\" alt=\"Open In Colab\"/></a>"
      ]
    },
    {
      "cell_type": "code",
      "metadata": {
        "id": "gzpHvuITjeMv",
        "colab_type": "code",
        "outputId": "b5c02f84-e941-426a-ed44-bb9c6756ca99",
        "colab": {
          "base_uri": "https://localhost:8080/",
          "height": 204
        }
      },
      "source": [
        "!pip install kaggle"
      ],
      "execution_count": 0,
      "outputs": [
        {
          "output_type": "stream",
          "text": [
            "Requirement already satisfied: kaggle in /usr/local/lib/python3.6/dist-packages (1.5.5)\n",
            "Requirement already satisfied: urllib3<1.25,>=1.21.1 in /usr/local/lib/python3.6/dist-packages (from kaggle) (1.24.3)\n",
            "Requirement already satisfied: six>=1.10 in /usr/local/lib/python3.6/dist-packages (from kaggle) (1.12.0)\n",
            "Requirement already satisfied: tqdm in /usr/local/lib/python3.6/dist-packages (from kaggle) (4.28.1)\n",
            "Requirement already satisfied: python-dateutil in /usr/local/lib/python3.6/dist-packages (from kaggle) (2.5.3)\n",
            "Requirement already satisfied: python-slugify in /usr/local/lib/python3.6/dist-packages (from kaggle) (3.0.3)\n",
            "Requirement already satisfied: certifi in /usr/local/lib/python3.6/dist-packages (from kaggle) (2019.6.16)\n",
            "Requirement already satisfied: requests in /usr/local/lib/python3.6/dist-packages (from kaggle) (2.21.0)\n",
            "Requirement already satisfied: text-unidecode==1.2 in /usr/local/lib/python3.6/dist-packages (from python-slugify->kaggle) (1.2)\n",
            "Requirement already satisfied: chardet<3.1.0,>=3.0.2 in /usr/local/lib/python3.6/dist-packages (from requests->kaggle) (3.0.4)\n",
            "Requirement already satisfied: idna<2.9,>=2.5 in /usr/local/lib/python3.6/dist-packages (from requests->kaggle) (2.8)\n"
          ],
          "name": "stdout"
        }
      ]
    },
    {
      "cell_type": "code",
      "metadata": {
        "id": "_H083dCtj9LB",
        "colab_type": "code",
        "colab": {}
      },
      "source": [
        "#before importing the dataset we want to use this code\n",
        "# The Kaggle API client expects this file to be in ~/.kaggle,\n",
        "!mkdir -p ~/.kaggle\n",
        "!cp kaggle.json ~/.kaggle/\n",
        "\n",
        "# This permissions change avoids a warning on Kaggle tool startup.\n",
        "!chmod 600 ~/.kaggle/kaggle.json"
      ],
      "execution_count": 0,
      "outputs": []
    },
    {
      "cell_type": "code",
      "metadata": {
        "id": "tTCw0Tkwk3aC",
        "colab_type": "code",
        "outputId": "b13aedef-77a0-446c-cf97-3c8924c7d5e3",
        "colab": {
          "base_uri": "https://localhost:8080/",
          "height": 119
        }
      },
      "source": [
        "!kaggle competitions download -c challenges-in-representation-learning-facial-expression-recognition-challenge"
      ],
      "execution_count": 0,
      "outputs": [
        {
          "output_type": "stream",
          "text": [
            "Downloading example_submission.csv to /content\n",
            "\r  0% 0.00/7.01k [00:00<?, ?B/s]\n",
            "100% 7.01k/7.01k [00:00<00:00, 13.8MB/s]\n",
            "Downloading fer2013.tar.gz to /content\n",
            " 96% 88.0M/92.0M [00:00<00:00, 109MB/s] \n",
            "100% 92.0M/92.0M [00:00<00:00, 171MB/s]\n"
          ],
          "name": "stdout"
        }
      ]
    },
    {
      "cell_type": "code",
      "metadata": {
        "id": "aE7Voun1pfQU",
        "colab_type": "code",
        "outputId": "8006dc6b-18d3-4990-ac8d-7556022a8b8f",
        "colab": {
          "base_uri": "https://localhost:8080/",
          "height": 85
        }
      },
      "source": [
        "!tar -zxvf fer2013.tar.gz"
      ],
      "execution_count": 0,
      "outputs": [
        {
          "output_type": "stream",
          "text": [
            "fer2013/fer2013.csv\n",
            "fer2013/README\n",
            "fer2013/fer2013.bib\n",
            "fer2013/\n"
          ],
          "name": "stdout"
        }
      ]
    },
    {
      "cell_type": "code",
      "metadata": {
        "id": "EpEZr-Aw0Evb",
        "colab_type": "code",
        "colab": {}
      },
      "source": [
        "import matplotlib.pyplot as plt"
      ],
      "execution_count": 0,
      "outputs": []
    },
    {
      "cell_type": "code",
      "metadata": {
        "id": "KRBzFiNBnZ5M",
        "colab_type": "code",
        "outputId": "bfbee42c-eab9-46bd-af89-827b27f0fa10",
        "colab": {
          "base_uri": "https://localhost:8080/",
          "height": 34
        }
      },
      "source": [
        "import pandas as pd\n",
        "import cv2\n",
        "import numpy as np\n",
        "from sklearn.model_selection import train_test_split\n",
        " \n",
        "dataset_path = 'fer2013/fer2013.csv'\n",
        "image_size=(48,48)\n",
        " \n",
        "def load_fer2013():\n",
        "    data = pd.read_csv(dataset_path)\n",
        "    pixels = data['pixels'].tolist()\n",
        "    width, height = 48, 48\n",
        "    faces = []\n",
        "    for pixel_sequence in pixels:\n",
        "        face = [int(pixel) for pixel in pixel_sequence.split(' ')]\n",
        "        face = np.asarray(face).reshape(width, height)\n",
        "        face = cv2.resize(face.astype('uint8'),image_size)\n",
        "        faces.append(face.astype('float32'))\n",
        "    faces = np.asarray(faces)\n",
        "    faces = np.expand_dims(faces, -1)\n",
        "    emotions = pd.get_dummies(data['emotion']).as_matrix()\n",
        "    return faces, emotions\n",
        " \n",
        "def preprocess_input(x, v2=True):\n",
        "    x = x.astype('float32')\n",
        "    x = x / 255.0\n",
        "    if v2:\n",
        "        x = x - 0.5\n",
        "        x = x * 2.0\n",
        "    return x\n",
        " \n",
        "faces, emotions = load_fer2013()\n",
        "faces = preprocess_input(faces)\n",
        "xtrain, xtest,ytrain,ytest = train_test_split(faces, emotions,test_size=0.2,shuffle=True)"
      ],
      "execution_count": 0,
      "outputs": [
        {
          "output_type": "stream",
          "text": [
            "/usr/local/lib/python3.6/dist-packages/ipykernel_launcher.py:21: FutureWarning: Method .as_matrix will be removed in a future version. Use .values instead.\n"
          ],
          "name": "stderr"
        }
      ]
    },
    {
      "cell_type": "code",
      "metadata": {
        "id": "FYroC6hHz5P3",
        "colab_type": "code",
        "outputId": "a22628ab-8234-45a9-d5c7-06ad1979c5b7",
        "colab": {
          "base_uri": "https://localhost:8080/",
          "height": 34
        }
      },
      "source": [
        "xtrain.shape, ytrain.shape"
      ],
      "execution_count": 0,
      "outputs": [
        {
          "output_type": "execute_result",
          "data": {
            "text/plain": [
              "((28709, 48, 48, 1), (28709, 7))"
            ]
          },
          "metadata": {
            "tags": []
          },
          "execution_count": 12
        }
      ]
    },
    {
      "cell_type": "code",
      "metadata": {
        "id": "AU4m3HAm0PxP",
        "colab_type": "code",
        "outputId": "e3f89059-a52f-4fcb-f643-1e88017df109",
        "colab": {
          "base_uri": "https://localhost:8080/",
          "height": 354
        }
      },
      "source": [
        "plt.imshow(xtrain[0].reshape(48,48))\n",
        "plt.xlabel(ytrain[0])"
      ],
      "execution_count": 0,
      "outputs": [
        {
          "output_type": "stream",
          "text": [
            "/usr/local/lib/python3.6/dist-packages/matplotlib/text.py:1191: FutureWarning: elementwise comparison failed; returning scalar instead, but in the future will perform elementwise comparison\n",
            "  if s != self._text:\n"
          ],
          "name": "stderr"
        },
        {
          "output_type": "execute_result",
          "data": {
            "text/plain": [
              "Text(0.5, 0, '[1 0 0 0 0 0 0]')"
            ]
          },
          "metadata": {
            "tags": []
          },
          "execution_count": 16
        },
        {
          "output_type": "display_data",
          "data": {
            "image/png": "[encoded data removed]",
            "text/plain": [
              "<Figure size 432x288 with 1 Axes>"
            ]
          },
          "metadata": {
            "tags": []
          }
        }
      ]
    },
    {
      "cell_type": "code",
      "metadata": {
        "id": "6UuWeXDVoHrF",
        "colab_type": "code",
        "outputId": "99761a8c-b73a-4a6e-9546-3520d2f0782b",
        "colab": {
          "base_uri": "https://localhost:8080/",
          "height": 1000
        }
      },
      "source": [
        "from keras.callbacks import CSVLogger, ModelCheckpoint, EarlyStopping\n",
        "from keras.callbacks import ReduceLROnPlateau\n",
        "from keras.preprocessing.image import ImageDataGenerator\n",
        "from sklearn.model_selection import train_test_split\n",
        "from keras.layers import Activation, Convolution2D, Dropout, Conv2D\n",
        "from keras.layers import AveragePooling2D, BatchNormalization\n",
        "from keras.layers import GlobalAveragePooling2D\n",
        "from keras.models import Sequential\n",
        "from keras.layers import Flatten\n",
        "from keras.models import Model\n",
        "from keras.layers import Input\n",
        "from keras.layers import MaxPooling2D\n",
        "from keras.layers import SeparableConv2D\n",
        "from keras import layers\n",
        "from keras.regularizers import l2\n",
        "import pandas as pd\n",
        "import cv2\n",
        "import numpy as np\n",
        " \n",
        "# parameters\n",
        "batch_size = 32\n",
        "num_epochs = 50\n",
        "input_shape = (48, 48, 1)\n",
        "verbose = 1\n",
        "num_classes = 7\n",
        "patience = 50\n",
        "base_path = 'models/'\n",
        "l2_regularization=0.01\n",
        " \n",
        "# data generator\n",
        "data_generator = ImageDataGenerator(\n",
        "                        featurewise_center=False,\n",
        "                        featurewise_std_normalization=False,\n",
        "                        rotation_range=10,\n",
        "                        width_shift_range=0.1,\n",
        "                        height_shift_range=0.1,\n",
        "                        zoom_range=.1,\n",
        "                        horizontal_flip=True)\n",
        " \n",
        "# model parameters\n",
        "regularization = l2(l2_regularization)\n",
        " \n",
        "# base\n",
        "img_input = Input(input_shape)\n",
        "x = Conv2D(8, (3, 3), strides=(1, 1), kernel_regularizer=regularization, use_bias=False)(img_input)\n",
        "x = BatchNormalization()(x)\n",
        "x = Activation('relu')(x)\n",
        "x = Conv2D(8, (3, 3), strides=(1, 1), kernel_regularizer=regularization, use_bias=False)(x)\n",
        "x = BatchNormalization()(x)\n",
        "x = Activation('relu')(x)\n",
        " \n",
        "# module 1\n",
        "residual = Conv2D(16, (1, 1), strides=(2, 2), padding='same', use_bias=False)(x)\n",
        "residual = BatchNormalization()(residual)\n",
        "x = SeparableConv2D(16, (3, 3), padding='same', kernel_regularizer=regularization, use_bias=False)(x)\n",
        "x = BatchNormalization()(x)\n",
        "x = Activation('relu')(x)\n",
        "x = SeparableConv2D(16, (3, 3), padding='same', kernel_regularizer=regularization, use_bias=False)(x)\n",
        "x = BatchNormalization()(x)\n",
        "x = MaxPooling2D((3, 3), strides=(2, 2), padding='same')(x)\n",
        "x = layers.add([x, residual])\n",
        " \n",
        "# module 2\n",
        "residual = Conv2D(32, (1, 1), strides=(2, 2), padding='same', use_bias=False)(x)\n",
        "residual = BatchNormalization()(residual)\n",
        "x = SeparableConv2D(32, (3, 3), padding='same', kernel_regularizer=regularization, use_bias=False)(x)\n",
        "x = BatchNormalization()(x)\n",
        "x = Activation('relu')(x)\n",
        "x = SeparableConv2D(32, (3, 3), padding='same', kernel_regularizer=regularization, use_bias=False)(x)\n",
        "x = BatchNormalization()(x)\n",
        "x = MaxPooling2D((3, 3), strides=(2, 2), padding='same')(x)\n",
        "x = layers.add([x, residual])\n",
        " \n",
        "# module 3\n",
        "residual = Conv2D(64, (1, 1), strides=(2, 2),padding='same', use_bias=False)(x)\n",
        "residual = BatchNormalization()(residual)\n",
        "x = SeparableConv2D(64, (3, 3), padding='same',kernel_regularizer=regularization,use_bias=False)(x)\n",
        "x = BatchNormalization()(x)\n",
        "x = Activation('relu')(x)\n",
        "x = SeparableConv2D(64, (3, 3), padding='same',kernel_regularizer=regularization,use_bias=False)(x)\n",
        "x = BatchNormalization()(x)\n",
        "x = MaxPooling2D((3, 3), strides=(2, 2), padding='same')(x)\n",
        "x = layers.add([x, residual])\n",
        " \n",
        "# module 4\n",
        "residual = Conv2D(128, (1, 1), strides=(2, 2),padding='same', use_bias=False)(x)\n",
        "residual = BatchNormalization()(residual)\n",
        "x = SeparableConv2D(128, (3, 3), padding='same',kernel_regularizer=regularization,use_bias=False)(x)\n",
        "x = BatchNormalization()(x)\n",
        "x = Activation('relu')(x)\n",
        "x = SeparableConv2D(128, (3, 3), padding='same',kernel_regularizer=regularization,use_bias=False)(x)\n",
        "x = BatchNormalization()(x)\n",
        "x = MaxPooling2D((3, 3), strides=(2, 2), padding='same')(x)\n",
        "x = layers.add([x, residual])\n",
        "x = Conv2D(num_classes, (3, 3), padding='same')(x)\n",
        "x = GlobalAveragePooling2D()(x)\n",
        "output = Activation('softmax',name='predictions')(x)\n",
        " \n",
        "model = Model(img_input, output)\n",
        "model.compile(optimizer='adam', loss='categorical_crossentropy',metrics=['accuracy'])\n",
        "model.summary()\n",
        " \n",
        "# callbacks\n",
        "'''\n",
        "log_file_path = base_path + '_emotion_training.log'\n",
        "csv_logger = CSVLogger(log_file_path, append=False)\n",
        "early_stop = EarlyStopping('val_loss', patience=patience)\n",
        "reduce_lr = ReduceLROnPlateau('val_loss', factor=0.1, patience=int(patience/4), verbose=1)\n",
        "trained_models_path = base_path + '_mini_XCEPTION'\n",
        "model_names = trained_models_path + '.{epoch:02d}-{val_acc:.2f}.hdf5'\n",
        "model_checkpoint = ModelCheckpoint(model_names, 'val_loss', verbose=1,save_best_only=True)\n",
        "callbacks = [model_checkpoint, csv_logger, early_stop, reduce_lr]\n",
        "'''\n",
        " \n",
        "model.fit_generator(data_generator.flow(xtrain, ytrain,batch_size),\n",
        "                        steps_per_epoch=len(xtrain) / batch_size,\n",
        "                        epochs=num_epochs, verbose=1, \n",
        "                        validation_data=(xtest,ytest))"
      ],
      "execution_count": 0,
      "outputs": [
        {
          "output_type": "stream",
          "text": [
            "__________________________________________________________________________________________________\n",
            "Layer (type)                    Output Shape         Param #     Connected to                     \n",
            "==================================================================================================\n",
            "input_3 (InputLayer)            (None, 48, 48, 1)    0                                            \n",
            "__________________________________________________________________________________________________\n",
            "conv2d_15 (Conv2D)              (None, 46, 46, 8)    72          input_3[0][0]                    \n",
            "__________________________________________________________________________________________________\n",
            "batch_normalization_29 (BatchNo (None, 46, 46, 8)    32          conv2d_15[0][0]                  \n",
            "__________________________________________________________________________________________________\n",
            "activation_13 (Activation)      (None, 46, 46, 8)    0           batch_normalization_29[0][0]     \n",
            "__________________________________________________________________________________________________\n",
            "conv2d_16 (Conv2D)              (None, 44, 44, 8)    576         activation_13[0][0]              \n",
            "__________________________________________________________________________________________________\n",
            "batch_normalization_30 (BatchNo (None, 44, 44, 8)    32          conv2d_16[0][0]                  \n",
            "__________________________________________________________________________________________________\n",
            "activation_14 (Activation)      (None, 44, 44, 8)    0           batch_normalization_30[0][0]     \n",
            "__________________________________________________________________________________________________\n",
            "separable_conv2d_17 (SeparableC (None, 44, 44, 16)   200         activation_14[0][0]              \n",
            "__________________________________________________________________________________________________\n",
            "batch_normalization_32 (BatchNo (None, 44, 44, 16)   64          separable_conv2d_17[0][0]        \n",
            "__________________________________________________________________________________________________\n",
            "activation_15 (Activation)      (None, 44, 44, 16)   0           batch_normalization_32[0][0]     \n",
            "__________________________________________________________________________________________________\n",
            "separable_conv2d_18 (SeparableC (None, 44, 44, 16)   400         activation_15[0][0]              \n",
            "__________________________________________________________________________________________________\n",
            "batch_normalization_33 (BatchNo (None, 44, 44, 16)   64          separable_conv2d_18[0][0]        \n",
            "__________________________________________________________________________________________________\n",
            "conv2d_17 (Conv2D)              (None, 22, 22, 16)   128         activation_14[0][0]              \n",
            "__________________________________________________________________________________________________\n",
            "max_pooling2d_9 (MaxPooling2D)  (None, 22, 22, 16)   0           batch_normalization_33[0][0]     \n",
            "__________________________________________________________________________________________________\n",
            "batch_normalization_31 (BatchNo (None, 22, 22, 16)   64          conv2d_17[0][0]                  \n",
            "__________________________________________________________________________________________________\n",
            "add_9 (Add)                     (None, 22, 22, 16)   0           max_pooling2d_9[0][0]            \n",
            "                                                                 batch_normalization_31[0][0]     \n",
            "__________________________________________________________________________________________________\n",
            "separable_conv2d_19 (SeparableC (None, 22, 22, 32)   656         add_9[0][0]                      \n",
            "__________________________________________________________________________________________________\n",
            "batch_normalization_35 (BatchNo (None, 22, 22, 32)   128         separable_conv2d_19[0][0]        \n",
            "__________________________________________________________________________________________________\n",
            "activation_16 (Activation)      (None, 22, 22, 32)   0           batch_normalization_35[0][0]     \n",
            "__________________________________________________________________________________________________\n",
            "separable_conv2d_20 (SeparableC (None, 22, 22, 32)   1312        activation_16[0][0]              \n",
            "__________________________________________________________________________________________________\n",
            "batch_normalization_36 (BatchNo (None, 22, 22, 32)   128         separable_conv2d_20[0][0]        \n",
            "__________________________________________________________________________________________________\n",
            "conv2d_18 (Conv2D)              (None, 11, 11, 32)   512         add_9[0][0]                      \n",
            "__________________________________________________________________________________________________\n",
            "max_pooling2d_10 (MaxPooling2D) (None, 11, 11, 32)   0           batch_normalization_36[0][0]     \n",
            "__________________________________________________________________________________________________\n",
            "batch_normalization_34 (BatchNo (None, 11, 11, 32)   128         conv2d_18[0][0]                  \n",
            "__________________________________________________________________________________________________\n",
            "add_10 (Add)                    (None, 11, 11, 32)   0           max_pooling2d_10[0][0]           \n",
            "                                                                 batch_normalization_34[0][0]     \n",
            "__________________________________________________________________________________________________\n",
            "separable_conv2d_21 (SeparableC (None, 11, 11, 64)   2336        add_10[0][0]                     \n",
            "__________________________________________________________________________________________________\n",
            "batch_normalization_38 (BatchNo (None, 11, 11, 64)   256         separable_conv2d_21[0][0]        \n",
            "__________________________________________________________________________________________________\n",
            "activation_17 (Activation)      (None, 11, 11, 64)   0           batch_normalization_38[0][0]     \n",
            "__________________________________________________________________________________________________\n",
            "separable_conv2d_22 (SeparableC (None, 11, 11, 64)   4672        activation_17[0][0]              \n",
            "__________________________________________________________________________________________________\n",
            "batch_normalization_39 (BatchNo (None, 11, 11, 64)   256         separable_conv2d_22[0][0]        \n",
            "__________________________________________________________________________________________________\n",
            "conv2d_19 (Conv2D)              (None, 6, 6, 64)     2048        add_10[0][0]                     \n",
            "__________________________________________________________________________________________________\n",
            "max_pooling2d_11 (MaxPooling2D) (None, 6, 6, 64)     0           batch_normalization_39[0][0]     \n",
            "__________________________________________________________________________________________________\n",
            "batch_normalization_37 (BatchNo (None, 6, 6, 64)     256         conv2d_19[0][0]                  \n",
            "__________________________________________________________________________________________________\n",
            "add_11 (Add)                    (None, 6, 6, 64)     0           max_pooling2d_11[0][0]           \n",
            "                                                                 batch_normalization_37[0][0]     \n",
            "__________________________________________________________________________________________________\n",
            "separable_conv2d_23 (SeparableC (None, 6, 6, 128)    8768        add_11[0][0]                     \n",
            "__________________________________________________________________________________________________\n",
            "batch_normalization_41 (BatchNo (None, 6, 6, 128)    512         separable_conv2d_23[0][0]        \n",
            "__________________________________________________________________________________________________\n",
            "activation_18 (Activation)      (None, 6, 6, 128)    0           batch_normalization_41[0][0]     \n",
            "__________________________________________________________________________________________________\n",
            "separable_conv2d_24 (SeparableC (None, 6, 6, 128)    17536       activation_18[0][0]              \n",
            "__________________________________________________________________________________________________\n",
            "batch_normalization_42 (BatchNo (None, 6, 6, 128)    512         separable_conv2d_24[0][0]        \n",
            "__________________________________________________________________________________________________\n",
            "conv2d_20 (Conv2D)              (None, 3, 3, 128)    8192        add_11[0][0]                     \n",
            "__________________________________________________________________________________________________\n",
            "max_pooling2d_12 (MaxPooling2D) (None, 3, 3, 128)    0           batch_normalization_42[0][0]     \n",
            "__________________________________________________________________________________________________\n",
            "batch_normalization_40 (BatchNo (None, 3, 3, 128)    512         conv2d_20[0][0]                  \n",
            "__________________________________________________________________________________________________\n",
            "add_12 (Add)                    (None, 3, 3, 128)    0           max_pooling2d_12[0][0]           \n",
            "                                                                 batch_normalization_40[0][0]     \n",
            "__________________________________________________________________________________________________\n",
            "conv2d_21 (Conv2D)              (None, 3, 3, 7)      8071        add_12[0][0]                     \n",
            "__________________________________________________________________________________________________\n",
            "global_average_pooling2d_3 (Glo (None, 7)            0           conv2d_21[0][0]                  \n",
            "__________________________________________________________________________________________________\n",
            "predictions (Activation)        (None, 7)            0           global_average_pooling2d_3[0][0] \n",
            "==================================================================================================\n",
            "Total params: 58,423\n",
            "Trainable params: 56,951\n",
            "Non-trainable params: 1,472\n",
            "__________________________________________________________________________________________________\n",
            "Epoch 1/50\n",
            "898/897 [==============================] - 36s 40ms/step - loss: 1.7558 - acc: 0.3410 - val_loss: 1.6728 - val_acc: 0.3970\n",
            "Epoch 2/50\n",
            "898/897 [==============================] - 33s 36ms/step - loss: 1.4893 - acc: 0.4472 - val_loss: 1.5625 - val_acc: 0.4568\n",
            "Epoch 3/50\n",
            "898/897 [==============================] - 33s 36ms/step - loss: 1.3800 - acc: 0.4866 - val_loss: 1.6141 - val_acc: 0.4334\n",
            "Epoch 4/50\n",
            "898/897 [==============================] - 32s 36ms/step - loss: 1.3167 - acc: 0.5083 - val_loss: 1.3104 - val_acc: 0.5238\n",
            "Epoch 5/50\n",
            "898/897 [==============================] - 33s 36ms/step - loss: 1.2719 - acc: 0.5255 - val_loss: 1.2501 - val_acc: 0.5393\n",
            "Epoch 6/50\n",
            "898/897 [==============================] - 33s 36ms/step - loss: 1.2506 - acc: 0.5308 - val_loss: 1.3373 - val_acc: 0.5003\n",
            "Epoch 7/50\n",
            "898/897 [==============================] - 32s 36ms/step - loss: 1.2199 - acc: 0.5387 - val_loss: 1.2728 - val_acc: 0.5263\n",
            "Epoch 8/50\n",
            "898/897 [==============================] - 33s 36ms/step - loss: 1.1987 - acc: 0.5498 - val_loss: 1.2673 - val_acc: 0.5436\n",
            "Epoch 9/50\n",
            "898/897 [==============================] - 32s 36ms/step - loss: 1.1770 - acc: 0.5602 - val_loss: 1.2238 - val_acc: 0.5520\n",
            "Epoch 10/50\n",
            "898/897 [==============================] - 32s 36ms/step - loss: 1.1639 - acc: 0.5609 - val_loss: 1.1964 - val_acc: 0.5575\n",
            "Epoch 11/50\n",
            "898/897 [==============================] - 33s 36ms/step - loss: 1.1508 - acc: 0.5672 - val_loss: 1.2935 - val_acc: 0.5164\n",
            "Epoch 12/50\n",
            "898/897 [==============================] - 32s 36ms/step - loss: 1.1294 - acc: 0.5767 - val_loss: 1.3632 - val_acc: 0.5039\n",
            "Epoch 13/50\n",
            "898/897 [==============================] - 32s 36ms/step - loss: 1.1127 - acc: 0.5839 - val_loss: 1.1601 - val_acc: 0.5769\n",
            "Epoch 14/50\n",
            "898/897 [==============================] - 32s 36ms/step - loss: 1.1115 - acc: 0.5829 - val_loss: 1.1936 - val_acc: 0.5598\n",
            "Epoch 15/50\n",
            "898/897 [==============================] - 32s 36ms/step - loss: 1.0976 - acc: 0.5904 - val_loss: 1.0937 - val_acc: 0.5903\n",
            "Epoch 16/50\n",
            "898/897 [==============================] - 33s 36ms/step - loss: 1.0929 - acc: 0.5919 - val_loss: 1.1539 - val_acc: 0.5790\n",
            "Epoch 17/50\n",
            "898/897 [==============================] - 32s 36ms/step - loss: 1.0854 - acc: 0.5930 - val_loss: 1.1932 - val_acc: 0.5655\n",
            "Epoch 18/50\n",
            "898/897 [==============================] - 32s 36ms/step - loss: 1.0724 - acc: 0.5999 - val_loss: 1.1268 - val_acc: 0.5807\n",
            "Epoch 19/50\n",
            "898/897 [==============================] - 32s 36ms/step - loss: 1.0630 - acc: 0.6016 - val_loss: 1.0980 - val_acc: 0.5942\n",
            "Epoch 20/50\n",
            "898/897 [==============================] - 32s 36ms/step - loss: 1.0555 - acc: 0.6063 - val_loss: 1.0874 - val_acc: 0.5996\n",
            "Epoch 21/50\n",
            "898/897 [==============================] - 32s 36ms/step - loss: 1.0539 - acc: 0.6063 - val_loss: 1.1302 - val_acc: 0.5795\n",
            "Epoch 22/50\n",
            "898/897 [==============================] - 32s 36ms/step - loss: 1.0493 - acc: 0.6091 - val_loss: 1.0793 - val_acc: 0.6076\n",
            "Epoch 23/50\n",
            "898/897 [==============================] - 32s 36ms/step - loss: 1.0384 - acc: 0.6084 - val_loss: 1.0764 - val_acc: 0.6130\n",
            "Epoch 24/50\n",
            "898/897 [==============================] - 32s 36ms/step - loss: 1.0297 - acc: 0.6165 - val_loss: 1.0579 - val_acc: 0.6115\n",
            "Epoch 25/50\n",
            "898/897 [==============================] - 32s 36ms/step - loss: 1.0298 - acc: 0.6165 - val_loss: 1.0984 - val_acc: 0.5956\n",
            "Epoch 26/50\n",
            "898/897 [==============================] - 32s 36ms/step - loss: 1.0277 - acc: 0.6160 - val_loss: 1.0706 - val_acc: 0.6050\n",
            "Epoch 27/50\n",
            "898/897 [==============================] - 32s 36ms/step - loss: 1.0167 - acc: 0.6181 - val_loss: 1.0546 - val_acc: 0.6053\n",
            "Epoch 28/50\n",
            "898/897 [==============================] - 32s 36ms/step - loss: 1.0152 - acc: 0.6216 - val_loss: 1.1297 - val_acc: 0.5878\n",
            "Epoch 29/50\n",
            "898/897 [==============================] - 32s 36ms/step - loss: 1.0129 - acc: 0.6222 - val_loss: 1.0626 - val_acc: 0.6095\n",
            "Epoch 30/50\n",
            "898/897 [==============================] - 32s 36ms/step - loss: 1.0086 - acc: 0.6236 - val_loss: 1.0534 - val_acc: 0.6166\n",
            "Epoch 31/50\n",
            "898/897 [==============================] - 32s 36ms/step - loss: 1.0034 - acc: 0.6250 - val_loss: 1.0557 - val_acc: 0.5963\n",
            "Epoch 32/50\n",
            "898/897 [==============================] - 32s 36ms/step - loss: 1.0030 - acc: 0.6252 - val_loss: 1.0425 - val_acc: 0.6195\n",
            "Epoch 33/50\n",
            "898/897 [==============================] - 32s 36ms/step - loss: 0.9949 - acc: 0.6276 - val_loss: 1.0357 - val_acc: 0.6206\n",
            "Epoch 34/50\n",
            "898/897 [==============================] - 32s 36ms/step - loss: 0.9901 - acc: 0.6305 - val_loss: 1.0464 - val_acc: 0.6187\n",
            "Epoch 35/50\n",
            "898/897 [==============================] - 33s 36ms/step - loss: 0.9920 - acc: 0.6300 - val_loss: 1.0239 - val_acc: 0.6195\n",
            "Epoch 36/50\n",
            "898/897 [==============================] - 32s 36ms/step - loss: 0.9834 - acc: 0.6329 - val_loss: 1.0419 - val_acc: 0.6121\n",
            "Epoch 37/50\n",
            "898/897 [==============================] - 33s 36ms/step - loss: 0.9814 - acc: 0.6345 - val_loss: 1.0493 - val_acc: 0.6174\n",
            "Epoch 38/50\n",
            "898/897 [==============================] - 33s 36ms/step - loss: 0.9852 - acc: 0.6317 - val_loss: 1.0377 - val_acc: 0.6215\n",
            "Epoch 39/50\n",
            "898/897 [==============================] - 33s 36ms/step - loss: 0.9778 - acc: 0.6355 - val_loss: 1.0332 - val_acc: 0.6155\n",
            "Epoch 40/50\n",
            "898/897 [==============================] - 32s 36ms/step - loss: 0.9709 - acc: 0.6395 - val_loss: 1.0228 - val_acc: 0.6239\n",
            "Epoch 41/50\n",
            "898/897 [==============================] - 33s 36ms/step - loss: 0.9661 - acc: 0.6374 - val_loss: 1.0524 - val_acc: 0.6181\n",
            "Epoch 42/50\n",
            "898/897 [==============================] - 32s 36ms/step - loss: 0.9715 - acc: 0.6369 - val_loss: 1.0549 - val_acc: 0.6174\n",
            "Epoch 43/50\n",
            "898/897 [==============================] - 32s 36ms/step - loss: 0.9705 - acc: 0.6381 - val_loss: 1.0278 - val_acc: 0.6239\n",
            "Epoch 44/50\n",
            "898/897 [==============================] - 32s 36ms/step - loss: 0.9619 - acc: 0.6389 - val_loss: 1.0286 - val_acc: 0.6236\n",
            "Epoch 45/50\n",
            "898/897 [==============================] - 32s 36ms/step - loss: 0.9596 - acc: 0.6448 - val_loss: 1.1002 - val_acc: 0.6057\n",
            "Epoch 46/50\n",
            "898/897 [==============================] - 32s 36ms/step - loss: 0.9573 - acc: 0.6407 - val_loss: 1.0812 - val_acc: 0.6011\n",
            "Epoch 47/50\n",
            "898/897 [==============================] - 32s 36ms/step - loss: 0.9544 - acc: 0.6448 - val_loss: 1.0478 - val_acc: 0.6244\n",
            "Epoch 48/50\n",
            "898/897 [==============================] - 33s 36ms/step - loss: 0.9521 - acc: 0.6456 - val_loss: 1.0304 - val_acc: 0.6211\n",
            "Epoch 49/50\n",
            "898/897 [==============================] - 32s 36ms/step - loss: 0.9489 - acc: 0.6458 - val_loss: 1.0222 - val_acc: 0.6346\n",
            "Epoch 50/50\n",
            "898/897 [==============================] - 33s 36ms/step - loss: 0.9479 - acc: 0.6489 - val_loss: 1.0165 - val_acc: 0.6239\n"
          ],
          "name": "stdout"
        },
        {
          "output_type": "execute_result",
          "data": {
            "text/plain": [
              "<keras.callbacks.History at 0x7f26fbc086d8>"
            ]
          },
          "metadata": {
            "tags": []
          },
          "execution_count": 11
        }
      ]
    },
    {
      "cell_type": "code",
      "metadata": {
        "id": "cZsqb7nF1UYf",
        "colab_type": "code",
        "outputId": "854ee8ce-8593-46f4-d23a-491c5617b752",
        "colab": {
          "base_uri": "https://localhost:8080/",
          "height": 300
        }
      },
      "source": [
        "plt.imshow(xtest[2].reshape(48,48))\n",
        "plt.xlabel(np.argmax(ytest[2]))"
      ],
      "execution_count": 0,
      "outputs": [
        {
          "output_type": "execute_result",
          "data": {
            "text/plain": [
              "Text(0.5, 0, '2')"
            ]
          },
          "metadata": {
            "tags": []
          },
          "execution_count": 27
        },
        {
          "output_type": "display_data",
          "data": {
            "image/png": "[encoded data removed]",
            "text/plain": [
              "<Figure size 432x288 with 1 Axes>"
            ]
          },
          "metadata": {
            "tags": []
          }
        }
      ]
    },
    {
      "cell_type": "code",
      "metadata": {
        "id": "mzI5goD91Zep",
        "colab_type": "code",
        "outputId": "18954b47-b7a4-454a-bce0-c998e6c7d45f",
        "colab": {
          "base_uri": "https://localhost:8080/",
          "height": 300
        }
      },
      "source": [
        "plt.imshow(xtest[2].reshape(48,48))\n",
        "plt.xlabel(np.argmax(model.predict(xtest[2:3])))"
      ],
      "execution_count": 0,
      "outputs": [
        {
          "output_type": "execute_result",
          "data": {
            "text/plain": [
              "Text(0.5, 0, '2')"
            ]
          },
          "metadata": {
            "tags": []
          },
          "execution_count": 26
        },
        {
          "output_type": "display_data",
          "data": {
            "image/png": "[encoded data removed]",
            "text/plain": [
              "<Figure size 432x288 with 1 Axes>"
            ]
          },
          "metadata": {
            "tags": []
          }
        }
      ]
    },
    {
      "cell_type": "code",
      "metadata": {
        "id": "8OAH0OHwqUFY",
        "colab_type": "code",
        "colab": {}
      },
      "source": [
        "model.save('emotion_recognition_model.h5')  # creates a HDF5 file 'my_model.h5'\n",
        "del model  # deletes the existing model\n"
      ],
      "execution_count": 0,
      "outputs": []
    },
    {
      "cell_type": "code",
      "metadata": {
        "id": "dOxbEz5bzwsV",
        "colab_type": "code",
        "colab": {}
      },
      "source": [
        "from keras.models import load_model\n",
        "\n",
        "# returns a compiled model\n",
        "# identical to the previous one\n",
        "model = load_model('emotion_recognition_model.h5')"
      ],
      "execution_count": 0,
      "outputs": []
    }
  ]
}