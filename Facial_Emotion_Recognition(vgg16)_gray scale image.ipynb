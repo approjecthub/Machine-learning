{
  "nbformat": 4,
  "nbformat_minor": 0,
  "metadata": {
    "colab": {
      "name": "Facial Emotion Recognition.ipynb",
      "provenance": [],
      "include_colab_link": true
    },
    "kernelspec": {
      "name": "python3",
      "display_name": "Python 3"
    },
    "accelerator": "GPU"
  },
  "cells": [
    {
      "cell_type": "markdown",
      "metadata": {
        "id": "view-in-github",
        "colab_type": "text"
      },
      "source": [
        "<a href=\"https://colab.research.google.com/github/approjecthub/Machine-learning/blob/master/Facial_Emotion_Recognition(vgg16)_gray%20scale%20image.ipynb\" target=\"_parent\"><img src=\"https://colab.research.google.com/assets/colab-badge.svg\" alt=\"Open In Colab\"/></a>"
      ]
    },
    {
      "cell_type": "code",
      "metadata": {
        "id": "gzpHvuITjeMv",
        "colab_type": "code",
        "outputId": "a0f429dc-eaa4-4381-eb66-0baa612a273a",
        "colab": {
          "base_uri": "https://localhost:8080/",
          "height": 204
        }
      },
      "source": [
        "!pip install kaggle"
      ],
      "execution_count": 1,
      "outputs": [
        {
          "output_type": "stream",
          "text": [
            "Requirement already satisfied: kaggle in /usr/local/lib/python3.6/dist-packages (1.5.6)\n",
            "Requirement already satisfied: six>=1.10 in /usr/local/lib/python3.6/dist-packages (from kaggle) (1.12.0)\n",
            "Requirement already satisfied: tqdm in /usr/local/lib/python3.6/dist-packages (from kaggle) (4.28.1)\n",
            "Requirement already satisfied: requests in /usr/local/lib/python3.6/dist-packages (from kaggle) (2.21.0)\n",
            "Requirement already satisfied: python-dateutil in /usr/local/lib/python3.6/dist-packages (from kaggle) (2.6.1)\n",
            "Requirement already satisfied: urllib3<1.25,>=1.21.1 in /usr/local/lib/python3.6/dist-packages (from kaggle) (1.24.3)\n",
            "Requirement already satisfied: certifi in /usr/local/lib/python3.6/dist-packages (from kaggle) (2019.11.28)\n",
            "Requirement already satisfied: python-slugify in /usr/local/lib/python3.6/dist-packages (from kaggle) (4.0.0)\n",
            "Requirement already satisfied: idna<2.9,>=2.5 in /usr/local/lib/python3.6/dist-packages (from requests->kaggle) (2.8)\n",
            "Requirement already satisfied: chardet<3.1.0,>=3.0.2 in /usr/local/lib/python3.6/dist-packages (from requests->kaggle) (3.0.4)\n",
            "Requirement already satisfied: text-unidecode>=1.3 in /usr/local/lib/python3.6/dist-packages (from python-slugify->kaggle) (1.3)\n"
          ],
          "name": "stdout"
        }
      ]
    },
    {
      "cell_type": "code",
      "metadata": {
        "id": "_H083dCtj9LB",
        "colab_type": "code",
        "colab": {}
      },
      "source": [
        "#before importing the dataset we want to use this code\n",
        "# The Kaggle API client expects this file to be in ~/.kaggle,\n",
        "!mkdir -p ~/.kaggle\n",
        "!cp kaggle.json ~/.kaggle/\n",
        "\n",
        "# This permissions change avoids a warning on Kaggle tool startup.\n",
        "!chmod 600 ~/.kaggle/kaggle.json"
      ],
      "execution_count": 0,
      "outputs": []
    },
    {
      "cell_type": "code",
      "metadata": {
        "id": "tTCw0Tkwk3aC",
        "colab_type": "code",
        "outputId": "3bd4345f-4f88-4f4d-c015-0aedf0fd3412",
        "colab": {
          "base_uri": "https://localhost:8080/",
          "height": 289
        }
      },
      "source": [
        "!kaggle competitions download -c challenges-in-representation-learning-facial-expression-recognition-challenge"
      ],
      "execution_count": 3,
      "outputs": [
        {
          "output_type": "stream",
          "text": [
            "Warning: Looks like you're using an outdated API Version, please consider updating (server 1.5.6 / client 1.5.4)\n",
            "Downloading train.csv.zip to /content\n",
            " 94% 73.0M/77.3M [00:01<00:00, 34.6MB/s]\n",
            "100% 77.3M/77.3M [00:01<00:00, 42.3MB/s]\n",
            "Downloading fer2013.tar.gz to /content\n",
            " 90% 83.0M/92.0M [00:01<00:00, 43.0MB/s]\n",
            "100% 92.0M/92.0M [00:01<00:00, 79.1MB/s]\n",
            "Downloading icml_face_data.csv.zip to /content\n",
            " 92% 89.0M/96.6M [00:03<00:00, 21.0MB/s]\n",
            "100% 96.6M/96.6M [00:03<00:00, 33.0MB/s]\n",
            "Downloading test.csv.zip to /content\n",
            " 26% 5.00M/19.3M [00:00<00:00, 26.7MB/s]\n",
            "100% 19.3M/19.3M [00:00<00:00, 76.6MB/s]\n",
            "Downloading example_submission.csv to /content\n",
            "  0% 0.00/7.01k [00:00<?, ?B/s]\n",
            "100% 7.01k/7.01k [00:00<00:00, 6.37MB/s]\n"
          ],
          "name": "stdout"
        }
      ]
    },
    {
      "cell_type": "code",
      "metadata": {
        "id": "aE7Voun1pfQU",
        "colab_type": "code",
        "outputId": "02206294-31ec-4b47-ead6-bf49a805e69f",
        "colab": {
          "base_uri": "https://localhost:8080/",
          "height": 85
        }
      },
      "source": [
        "!tar -zxvf fer2013.tar.gz"
      ],
      "execution_count": 4,
      "outputs": [
        {
          "output_type": "stream",
          "text": [
            "fer2013/fer2013.csv\n",
            "fer2013/README\n",
            "fer2013/fer2013.bib\n",
            "fer2013/\n"
          ],
          "name": "stdout"
        }
      ]
    },
    {
      "cell_type": "code",
      "metadata": {
        "id": "KRBzFiNBnZ5M",
        "colab_type": "code",
        "colab": {}
      },
      "source": [
        "import matplotlib.pyplot as plt\n",
        "import pandas as pd\n",
        "import cv2\n",
        "import numpy as np\n",
        "from sklearn.model_selection import train_test_split\n",
        " "
      ],
      "execution_count": 0,
      "outputs": []
    },
    {
      "cell_type": "code",
      "metadata": {
        "id": "8DV4BC7kjIPv",
        "colab_type": "code",
        "colab": {
          "base_uri": "https://localhost:8080/",
          "height": 51
        },
        "outputId": "b44b84c4-9acd-49dd-f98b-8700f446f8fc"
      },
      "source": [
        "dataset_path = 'fer2013/fer2013.csv'\n",
        "image_size=(48,48)\n",
        " \n",
        "def load_fer2013():\n",
        "    data = pd.read_csv(dataset_path)\n",
        "    pixels = data['pixels'].tolist()\n",
        "    width, height = 48, 48\n",
        "    faces = []\n",
        "    for pixel_sequence in pixels:\n",
        "        face = [int(pixel) for pixel in pixel_sequence.split(' ')]\n",
        "        face = np.asarray(face).reshape(width, height)\n",
        "        face = cv2.resize(face.astype('uint8'),image_size)\n",
        "        faces.append(face.astype('float32'))\n",
        "    faces = np.asarray(faces)\n",
        "    faces = np.expand_dims(faces, -1)\n",
        "    emotions = pd.get_dummies(data['emotion']).as_matrix()\n",
        "    return faces, emotions\n",
        "\n",
        "def preprocess_input(x, v2=True):\n",
        "    x = x.astype('float32')\n",
        "    x = x / 255.0\n",
        "    if v2:\n",
        "        x = x - 0.5\n",
        "        x = x * 2.0\n",
        "    return x\n",
        " \n",
        "faces, emotions = load_fer2013()\n",
        "faces = preprocess_input(faces)\n",
        "xtrain, xtest,ytrain,ytest = train_test_split(faces, emotions,test_size=0.2,shuffle=True)\n"
      ],
      "execution_count": 6,
      "outputs": [
        {
          "output_type": "stream",
          "text": [
            "/usr/local/lib/python3.6/dist-packages/ipykernel_launcher.py:16: FutureWarning: Method .as_matrix will be removed in a future version. Use .values instead.\n",
            "  app.launch_new_instance()\n"
          ],
          "name": "stderr"
        }
      ]
    },
    {
      "cell_type": "code",
      "metadata": {
        "id": "FYroC6hHz5P3",
        "colab_type": "code",
        "outputId": "397bfb04-8a45-48a1-b696-2823dc99d654",
        "colab": {
          "base_uri": "https://localhost:8080/",
          "height": 34
        }
      },
      "source": [
        "xtrain.shape, ytrain.shape, xtest.shape, ytest.shape"
      ],
      "execution_count": 7,
      "outputs": [
        {
          "output_type": "execute_result",
          "data": {
            "text/plain": [
              "((28709, 48, 48, 1), (28709, 7), (7178, 48, 48, 1), (7178, 7))"
            ]
          },
          "metadata": {
            "tags": []
          },
          "execution_count": 7
        }
      ]
    },
    {
      "cell_type": "code",
      "metadata": {
        "id": "AU4m3HAm0PxP",
        "colab_type": "code",
        "outputId": "de08cb9d-8f9a-47ed-8931-7717fbb70558",
        "colab": {
          "base_uri": "https://localhost:8080/",
          "height": 335
        }
      },
      "source": [
        "plt.imshow(xtrain[0].reshape(48,48),cmap=plt.cm.gray)\n",
        "\n",
        "plt.xlabel(ytrain[0])\n",
        "plt.show()"
      ],
      "execution_count": 8,
      "outputs": [
        {
          "output_type": "stream",
          "text": [
            "/usr/local/lib/python3.6/dist-packages/matplotlib/text.py:1150: FutureWarning: elementwise comparison failed; returning scalar instead, but in the future will perform elementwise comparison\n",
            "  if s != self._text:\n"
          ],
          "name": "stderr"
        },
        {
          "output_type": "display_data",
          "data": {
            "image/png": "[encoded data removed]",
            "text/plain": [
              "<Figure size 432x288 with 1 Axes>"
            ]
          },
          "metadata": {
            "tags": []
          }
        }
      ]
    },
    {
      "cell_type": "code",
      "metadata": {
        "id": "mf5l1FQz-wqB",
        "colab_type": "code",
        "outputId": "e2e542b5-ce53-4f9f-c109-85ddf95e6ab3",
        "colab": {
          "base_uri": "https://localhost:8080/",
          "height": 80
        }
      },
      "source": [
        "import keras\n",
        "from keras.preprocessing.image import ImageDataGenerator\n",
        "from keras.models import Sequential\n",
        "from keras.layers import Dense, Dropout, Activation, Flatten\n",
        "from keras.layers import Conv2D, MaxPooling2D"
      ],
      "execution_count": 7,
      "outputs": [
        {
          "output_type": "stream",
          "text": [
            "Using TensorFlow backend.\n"
          ],
          "name": "stderr"
        },
        {
          "output_type": "display_data",
          "data": {
            "text/html": [
              "<p style=\"color: red;\">\n",
              "The default version of TensorFlow in Colab will soon switch to TensorFlow 2.x.<br>\n",
              "We recommend you <a href=\"https://www.tensorflow.org/guide/migrate\" target=\"_blank\">upgrade</a> now \n",
              "or ensure your notebook will continue to use TensorFlow 1.x via the <code>%tensorflow_version 1.x</code> magic:\n",
              "<a href=\"https://colab.research.google.com/notebooks/tensorflow_version.ipynb\" target=\"_blank\">more info</a>.</p>\n"
            ],
            "text/plain": [
              "<IPython.core.display.HTML object>"
            ]
          },
          "metadata": {
            "tags": []
          }
        }
      ]
    },
    {
      "cell_type": "code",
      "metadata": {
        "id": "7iHTu6945Tri",
        "colab_type": "code",
        "colab": {}
      },
      "source": [
        "# parameters\n",
        "batch_size = 32\n",
        "input_shape = (48, 48, 1)\n",
        "verbose = 1\n",
        "num_classes = 7\n",
        "\n",
        "# data generator\n",
        "data_generator = ImageDataGenerator(\n",
        "                        featurewise_center=False,\n",
        "                        featurewise_std_normalization=False,\n",
        "                        rotation_range=10,\n",
        "                        width_shift_range=0.1,\n",
        "                        height_shift_range=0.1,\n",
        "                        zoom_range=.1,\n",
        "                        horizontal_flip=True)"
      ],
      "execution_count": 0,
      "outputs": []
    },
    {
      "cell_type": "code",
      "metadata": {
        "id": "Dlm0pqYx0A2o",
        "colab_type": "code",
        "outputId": "3016a1e2-c937-478f-f970-43cc004d550c",
        "colab": {
          "base_uri": "https://localhost:8080/",
          "height": 173
        }
      },
      "source": [
        "model =  Sequential()\n",
        "\n",
        "model.add(Conv2D(64, (3, 3), padding='same',input_shape=input_shape))\n",
        "model.add(Conv2D(64, (3, 3), padding='same'))\n",
        "model.add(MaxPooling2D(pool_size=(2, 2)))\n",
        "\n",
        "model.add(Conv2D(128, (3, 3), padding='same'))\n",
        "model.add(Conv2D(128, (3, 3), padding='same'))\n",
        "model.add(MaxPooling2D(pool_size=(2, 2)))\n",
        "\n",
        "model.add(Conv2D(256, (3, 3), padding='same'))\n",
        "model.add(Conv2D(256, (3, 3), padding='same'))\n",
        "model.add(Conv2D(256, (3, 3), padding='same'))\n",
        "model.add(MaxPooling2D(pool_size=(2, 2)))\n",
        "\n",
        "model.add(Conv2D(512, (3, 3), padding='same'))\n",
        "model.add(Conv2D(512, (3, 3), padding='same'))\n",
        "model.add(Conv2D(512, (3, 3), padding='same'))\n",
        "model.add(MaxPooling2D(pool_size=(2, 2)))\n",
        "\n"
      ],
      "execution_count": 9,
      "outputs": [
        {
          "output_type": "stream",
          "text": [
            "WARNING:tensorflow:From /usr/local/lib/python3.6/dist-packages/keras/backend/tensorflow_backend.py:66: The name tf.get_default_graph is deprecated. Please use tf.compat.v1.get_default_graph instead.\n",
            "\n",
            "WARNING:tensorflow:From /usr/local/lib/python3.6/dist-packages/keras/backend/tensorflow_backend.py:541: The name tf.placeholder is deprecated. Please use tf.compat.v1.placeholder instead.\n",
            "\n",
            "WARNING:tensorflow:From /usr/local/lib/python3.6/dist-packages/keras/backend/tensorflow_backend.py:4432: The name tf.random_uniform is deprecated. Please use tf.random.uniform instead.\n",
            "\n",
            "WARNING:tensorflow:From /usr/local/lib/python3.6/dist-packages/keras/backend/tensorflow_backend.py:4267: The name tf.nn.max_pool is deprecated. Please use tf.nn.max_pool2d instead.\n",
            "\n"
          ],
          "name": "stdout"
        }
      ]
    },
    {
      "cell_type": "code",
      "metadata": {
        "id": "2YnR4knc_N6P",
        "colab_type": "code",
        "outputId": "3d70a43e-d540-49bf-be06-7d75fa6f4c0c",
        "colab": {
          "base_uri": "https://localhost:8080/",
          "height": 629
        }
      },
      "source": [
        "model.summary()"
      ],
      "execution_count": 10,
      "outputs": [
        {
          "output_type": "stream",
          "text": [
            "Model: \"sequential_1\"\n",
            "_________________________________________________________________\n",
            "Layer (type)                 Output Shape              Param #   \n",
            "=================================================================\n",
            "conv2d_1 (Conv2D)            (None, 48, 48, 64)        640       \n",
            "_________________________________________________________________\n",
            "conv2d_2 (Conv2D)            (None, 48, 48, 64)        36928     \n",
            "_________________________________________________________________\n",
            "max_pooling2d_1 (MaxPooling2 (None, 24, 24, 64)        0         \n",
            "_________________________________________________________________\n",
            "conv2d_3 (Conv2D)            (None, 24, 24, 128)       73856     \n",
            "_________________________________________________________________\n",
            "conv2d_4 (Conv2D)            (None, 24, 24, 128)       147584    \n",
            "_________________________________________________________________\n",
            "max_pooling2d_2 (MaxPooling2 (None, 12, 12, 128)       0         \n",
            "_________________________________________________________________\n",
            "conv2d_5 (Conv2D)            (None, 12, 12, 256)       295168    \n",
            "_________________________________________________________________\n",
            "conv2d_6 (Conv2D)            (None, 12, 12, 256)       590080    \n",
            "_________________________________________________________________\n",
            "conv2d_7 (Conv2D)            (None, 12, 12, 256)       590080    \n",
            "_________________________________________________________________\n",
            "max_pooling2d_3 (MaxPooling2 (None, 6, 6, 256)         0         \n",
            "_________________________________________________________________\n",
            "conv2d_8 (Conv2D)            (None, 6, 6, 512)         1180160   \n",
            "_________________________________________________________________\n",
            "conv2d_9 (Conv2D)            (None, 6, 6, 512)         2359808   \n",
            "_________________________________________________________________\n",
            "conv2d_10 (Conv2D)           (None, 6, 6, 512)         2359808   \n",
            "_________________________________________________________________\n",
            "max_pooling2d_4 (MaxPooling2 (None, 3, 3, 512)         0         \n",
            "=================================================================\n",
            "Total params: 7,634,112\n",
            "Trainable params: 7,634,112\n",
            "Non-trainable params: 0\n",
            "_________________________________________________________________\n"
          ],
          "name": "stdout"
        }
      ]
    },
    {
      "cell_type": "code",
      "metadata": {
        "id": "w-rd_kSREaHc",
        "colab_type": "code",
        "outputId": "375a4cf5-5c0e-4fbb-e01e-16059fc32e5d",
        "colab": {
          "base_uri": "https://localhost:8080/",
          "height": 1000
        }
      },
      "source": [
        "\n",
        "model.add(Flatten())\n",
        "model.add(Dense(4096))\n",
        "model.add(Activation('relu'))\n",
        "model.add(Dense(4096))\n",
        "model.add(Activation('relu'))\n",
        "model.add(Dense(1000))\n",
        "model.add(Activation('relu'))\n",
        "model.add(Dropout(0.2))\n",
        "model.add(Dense(num_classes, activation='softmax'))\n",
        "\n",
        "model.summary() ### replication of vgg 16 for gray scale image ###"
      ],
      "execution_count": 11,
      "outputs": [
        {
          "output_type": "stream",
          "text": [
            "WARNING:tensorflow:From /usr/local/lib/python3.6/dist-packages/keras/backend/tensorflow_backend.py:148: The name tf.placeholder_with_default is deprecated. Please use tf.compat.v1.placeholder_with_default instead.\n",
            "\n",
            "WARNING:tensorflow:From /usr/local/lib/python3.6/dist-packages/keras/backend/tensorflow_backend.py:3733: calling dropout (from tensorflow.python.ops.nn_ops) with keep_prob is deprecated and will be removed in a future version.\n",
            "Instructions for updating:\n",
            "Please use `rate` instead of `keep_prob`. Rate should be set to `rate = 1 - keep_prob`.\n",
            "Model: \"sequential_1\"\n",
            "_________________________________________________________________\n",
            "Layer (type)                 Output Shape              Param #   \n",
            "=================================================================\n",
            "conv2d_1 (Conv2D)            (None, 48, 48, 64)        640       \n",
            "_________________________________________________________________\n",
            "conv2d_2 (Conv2D)            (None, 48, 48, 64)        36928     \n",
            "_________________________________________________________________\n",
            "max_pooling2d_1 (MaxPooling2 (None, 24, 24, 64)        0         \n",
            "_________________________________________________________________\n",
            "conv2d_3 (Conv2D)            (None, 24, 24, 128)       73856     \n",
            "_________________________________________________________________\n",
            "conv2d_4 (Conv2D)            (None, 24, 24, 128)       147584    \n",
            "_________________________________________________________________\n",
            "max_pooling2d_2 (MaxPooling2 (None, 12, 12, 128)       0         \n",
            "_________________________________________________________________\n",
            "conv2d_5 (Conv2D)            (None, 12, 12, 256)       295168    \n",
            "_________________________________________________________________\n",
            "conv2d_6 (Conv2D)            (None, 12, 12, 256)       590080    \n",
            "_________________________________________________________________\n",
            "conv2d_7 (Conv2D)            (None, 12, 12, 256)       590080    \n",
            "_________________________________________________________________\n",
            "max_pooling2d_3 (MaxPooling2 (None, 6, 6, 256)         0         \n",
            "_________________________________________________________________\n",
            "conv2d_8 (Conv2D)            (None, 6, 6, 512)         1180160   \n",
            "_________________________________________________________________\n",
            "conv2d_9 (Conv2D)            (None, 6, 6, 512)         2359808   \n",
            "_________________________________________________________________\n",
            "conv2d_10 (Conv2D)           (None, 6, 6, 512)         2359808   \n",
            "_________________________________________________________________\n",
            "max_pooling2d_4 (MaxPooling2 (None, 3, 3, 512)         0         \n",
            "_________________________________________________________________\n",
            "flatten_1 (Flatten)          (None, 4608)              0         \n",
            "_________________________________________________________________\n",
            "dense_1 (Dense)              (None, 4096)              18878464  \n",
            "_________________________________________________________________\n",
            "activation_1 (Activation)    (None, 4096)              0         \n",
            "_________________________________________________________________\n",
            "dense_2 (Dense)              (None, 4096)              16781312  \n",
            "_________________________________________________________________\n",
            "activation_2 (Activation)    (None, 4096)              0         \n",
            "_________________________________________________________________\n",
            "dense_3 (Dense)              (None, 1000)              4097000   \n",
            "_________________________________________________________________\n",
            "activation_3 (Activation)    (None, 1000)              0         \n",
            "_________________________________________________________________\n",
            "dropout_1 (Dropout)          (None, 1000)              0         \n",
            "_________________________________________________________________\n",
            "dense_4 (Dense)              (None, 7)                 7007      \n",
            "=================================================================\n",
            "Total params: 47,397,895\n",
            "Trainable params: 47,397,895\n",
            "Non-trainable params: 0\n",
            "_________________________________________________________________\n"
          ],
          "name": "stdout"
        }
      ]
    },
    {
      "cell_type": "code",
      "metadata": {
        "id": "37DduUYQLQNc",
        "colab_type": "code",
        "outputId": "fb5728fe-7714-4460-e736-a6d9303a8ebb",
        "colab": {
          "base_uri": "https://localhost:8080/",
          "height": 1000
        }
      },
      "source": [
        "num_epochs = 50\n",
        "\n",
        "from keras.optimizers import SGD\n",
        "opt = SGD(lr=0.0005)\n",
        "model.compile( loss='categorical_crossentropy',metrics=['accuracy'],optimizer = opt)\n",
        "\n",
        "model.fit_generator(data_generator.flow(xtrain, ytrain,batch_size),\n",
        "                        steps_per_epoch=len(xtrain) / batch_size,\n",
        "                        epochs=num_epochs, verbose=1, \n",
        "                        validation_data=(xtest,ytest))"
      ],
      "execution_count": 13,
      "outputs": [
        {
          "output_type": "stream",
          "text": [
            "Epoch 1/50\n",
            "898/897 [==============================] - 24s 27ms/step - loss: 1.8012 - acc: 0.2515 - val_loss: 1.7786 - val_acc: 0.2625\n",
            "Epoch 2/50\n",
            "898/897 [==============================] - 23s 26ms/step - loss: 1.7764 - acc: 0.2585 - val_loss: 1.7656 - val_acc: 0.2736\n",
            "Epoch 3/50\n",
            "898/897 [==============================] - 23s 25ms/step - loss: 1.7652 - acc: 0.2728 - val_loss: 1.7573 - val_acc: 0.2814\n",
            "Epoch 4/50\n",
            "898/897 [==============================] - 23s 26ms/step - loss: 1.7586 - acc: 0.2760 - val_loss: 1.7461 - val_acc: 0.2980\n",
            "Epoch 5/50\n",
            "898/897 [==============================] - 23s 26ms/step - loss: 1.7517 - acc: 0.2870 - val_loss: 1.7358 - val_acc: 0.3105\n",
            "Epoch 6/50\n",
            "898/897 [==============================] - 23s 26ms/step - loss: 1.7410 - acc: 0.2928 - val_loss: 1.7253 - val_acc: 0.3110\n",
            "Epoch 7/50\n",
            "898/897 [==============================] - 23s 26ms/step - loss: 1.7336 - acc: 0.2985 - val_loss: 1.7138 - val_acc: 0.3225\n",
            "Epoch 8/50\n",
            "898/897 [==============================] - 23s 25ms/step - loss: 1.7250 - acc: 0.3034 - val_loss: 1.6993 - val_acc: 0.3384\n",
            "Epoch 9/50\n",
            "898/897 [==============================] - 23s 26ms/step - loss: 1.7165 - acc: 0.3092 - val_loss: 1.6864 - val_acc: 0.3416\n",
            "Epoch 10/50\n",
            "898/897 [==============================] - 23s 26ms/step - loss: 1.7086 - acc: 0.3145 - val_loss: 1.6771 - val_acc: 0.3484\n",
            "Epoch 11/50\n",
            "898/897 [==============================] - 23s 25ms/step - loss: 1.6966 - acc: 0.3213 - val_loss: 1.6638 - val_acc: 0.3493\n",
            "Epoch 12/50\n",
            "898/897 [==============================] - 23s 25ms/step - loss: 1.6893 - acc: 0.3249 - val_loss: 1.6559 - val_acc: 0.3626\n",
            "Epoch 13/50\n",
            "898/897 [==============================] - 23s 25ms/step - loss: 1.6812 - acc: 0.3302 - val_loss: 1.6385 - val_acc: 0.3636\n",
            "Epoch 14/50\n",
            "898/897 [==============================] - 23s 25ms/step - loss: 1.6706 - acc: 0.3373 - val_loss: 1.6265 - val_acc: 0.3697\n",
            "Epoch 15/50\n",
            "898/897 [==============================] - 23s 25ms/step - loss: 1.6619 - acc: 0.3418 - val_loss: 1.6159 - val_acc: 0.3746\n",
            "Epoch 16/50\n",
            "898/897 [==============================] - 23s 25ms/step - loss: 1.6508 - acc: 0.3503 - val_loss: 1.6067 - val_acc: 0.3814\n",
            "Epoch 17/50\n",
            "898/897 [==============================] - 23s 25ms/step - loss: 1.6408 - acc: 0.3565 - val_loss: 1.5955 - val_acc: 0.3881\n",
            "Epoch 18/50\n",
            "898/897 [==============================] - 23s 25ms/step - loss: 1.6327 - acc: 0.3600 - val_loss: 1.5832 - val_acc: 0.4001\n",
            "Epoch 19/50\n",
            "898/897 [==============================] - 23s 25ms/step - loss: 1.6221 - acc: 0.3645 - val_loss: 1.5680 - val_acc: 0.4035\n",
            "Epoch 20/50\n",
            "898/897 [==============================] - 23s 25ms/step - loss: 1.6119 - acc: 0.3750 - val_loss: 1.5663 - val_acc: 0.4021\n",
            "Epoch 21/50\n",
            "898/897 [==============================] - 23s 25ms/step - loss: 1.6002 - acc: 0.3760 - val_loss: 1.5706 - val_acc: 0.3980\n",
            "Epoch 22/50\n",
            "898/897 [==============================] - 23s 25ms/step - loss: 1.5937 - acc: 0.3826 - val_loss: 1.5462 - val_acc: 0.4131\n",
            "Epoch 23/50\n",
            "898/897 [==============================] - 23s 25ms/step - loss: 1.5868 - acc: 0.3824 - val_loss: 1.5437 - val_acc: 0.4114\n",
            "Epoch 24/50\n",
            "898/897 [==============================] - 23s 25ms/step - loss: 1.5816 - acc: 0.3882 - val_loss: 1.5304 - val_acc: 0.4198\n",
            "Epoch 25/50\n",
            "898/897 [==============================] - 23s 25ms/step - loss: 1.5753 - acc: 0.3909 - val_loss: 1.5331 - val_acc: 0.4178\n",
            "Epoch 26/50\n",
            "898/897 [==============================] - 23s 25ms/step - loss: 1.5642 - acc: 0.3933 - val_loss: 1.5199 - val_acc: 0.4252\n",
            "Epoch 27/50\n",
            "898/897 [==============================] - 23s 25ms/step - loss: 1.5578 - acc: 0.3973 - val_loss: 1.5116 - val_acc: 0.4289\n",
            "Epoch 28/50\n",
            "898/897 [==============================] - 23s 25ms/step - loss: 1.5545 - acc: 0.3995 - val_loss: 1.5084 - val_acc: 0.4295\n",
            "Epoch 29/50\n",
            "898/897 [==============================] - 23s 25ms/step - loss: 1.5468 - acc: 0.4053 - val_loss: 1.5045 - val_acc: 0.4330\n",
            "Epoch 30/50\n",
            "898/897 [==============================] - 23s 25ms/step - loss: 1.5402 - acc: 0.4019 - val_loss: 1.4900 - val_acc: 0.4363\n",
            "Epoch 31/50\n",
            "898/897 [==============================] - 23s 25ms/step - loss: 1.5321 - acc: 0.4058 - val_loss: 1.4857 - val_acc: 0.4405\n",
            "Epoch 32/50\n",
            "898/897 [==============================] - 23s 25ms/step - loss: 1.5280 - acc: 0.4116 - val_loss: 1.4871 - val_acc: 0.4322\n",
            "Epoch 33/50\n",
            "898/897 [==============================] - 23s 25ms/step - loss: 1.5190 - acc: 0.4155 - val_loss: 1.4796 - val_acc: 0.4415\n",
            "Epoch 34/50\n",
            "898/897 [==============================] - 23s 25ms/step - loss: 1.5135 - acc: 0.4200 - val_loss: 1.4716 - val_acc: 0.4464\n",
            "Epoch 35/50\n",
            "898/897 [==============================] - 23s 25ms/step - loss: 1.5094 - acc: 0.4193 - val_loss: 1.4600 - val_acc: 0.4496\n",
            "Epoch 36/50\n",
            "898/897 [==============================] - 23s 25ms/step - loss: 1.5017 - acc: 0.4251 - val_loss: 1.4598 - val_acc: 0.4492\n",
            "Epoch 37/50\n",
            "898/897 [==============================] - 23s 25ms/step - loss: 1.4946 - acc: 0.4270 - val_loss: 1.4507 - val_acc: 0.4532\n",
            "Epoch 38/50\n",
            "898/897 [==============================] - 23s 25ms/step - loss: 1.4859 - acc: 0.4292 - val_loss: 1.4494 - val_acc: 0.4476\n",
            "Epoch 39/50\n",
            "898/897 [==============================] - 23s 25ms/step - loss: 1.4852 - acc: 0.4284 - val_loss: 1.4489 - val_acc: 0.4526\n",
            "Epoch 40/50\n",
            "898/897 [==============================] - 23s 25ms/step - loss: 1.4774 - acc: 0.4327 - val_loss: 1.4377 - val_acc: 0.4571\n",
            "Epoch 41/50\n",
            "898/897 [==============================] - 23s 25ms/step - loss: 1.4749 - acc: 0.4367 - val_loss: 1.4283 - val_acc: 0.4588\n",
            "Epoch 42/50\n",
            "898/897 [==============================] - 23s 25ms/step - loss: 1.4701 - acc: 0.4340 - val_loss: 1.4270 - val_acc: 0.4512\n",
            "Epoch 43/50\n",
            "898/897 [==============================] - 23s 25ms/step - loss: 1.4635 - acc: 0.4356 - val_loss: 1.4226 - val_acc: 0.4650\n",
            "Epoch 44/50\n",
            "898/897 [==============================] - 23s 25ms/step - loss: 1.4541 - acc: 0.4433 - val_loss: 1.4102 - val_acc: 0.4680\n",
            "Epoch 45/50\n",
            "898/897 [==============================] - 23s 25ms/step - loss: 1.4474 - acc: 0.4481 - val_loss: 1.4035 - val_acc: 0.4716\n",
            "Epoch 46/50\n",
            "898/897 [==============================] - 23s 25ms/step - loss: 1.4471 - acc: 0.4434 - val_loss: 1.4041 - val_acc: 0.4678\n",
            "Epoch 47/50\n",
            "898/897 [==============================] - 23s 25ms/step - loss: 1.4422 - acc: 0.4487 - val_loss: 1.4060 - val_acc: 0.4716\n",
            "Epoch 48/50\n",
            "898/897 [==============================] - 23s 25ms/step - loss: 1.4387 - acc: 0.4498 - val_loss: 1.3966 - val_acc: 0.4706\n",
            "Epoch 49/50\n",
            "898/897 [==============================] - 23s 25ms/step - loss: 1.4349 - acc: 0.4526 - val_loss: 1.3825 - val_acc: 0.4815\n",
            "Epoch 50/50\n",
            "898/897 [==============================] - 23s 25ms/step - loss: 1.4299 - acc: 0.4505 - val_loss: 1.3864 - val_acc: 0.4707\n"
          ],
          "name": "stdout"
        },
        {
          "output_type": "execute_result",
          "data": {
            "text/plain": [
              "<keras.callbacks.History at 0x7f36e0046f60>"
            ]
          },
          "metadata": {
            "tags": []
          },
          "execution_count": 13
        }
      ]
    },
    {
      "cell_type": "code",
      "metadata": {
        "id": "foVDg19kLxAU",
        "colab_type": "code",
        "colab": {}
      },
      "source": [
        ""
      ],
      "execution_count": 0,
      "outputs": []
    }
  ]
}