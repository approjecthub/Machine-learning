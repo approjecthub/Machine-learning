{
  "nbformat": 4,
  "nbformat_minor": 0,
  "metadata": {
    "colab": {
      "name": "Facial Emotion Recognition.ipynb",
      "provenance": [],
      "include_colab_link": true
    },
    "kernelspec": {
      "name": "python3",
      "display_name": "Python 3"
    },
    "accelerator": "GPU"
  },
  "cells": [
    {
      "cell_type": "markdown",
      "metadata": {
        "id": "view-in-github",
        "colab_type": "text"
      },
      "source": [
        "<a href=\"https://colab.research.google.com/github/approjecthub/Machine-learning/blob/master/Facial_Emotion_Recognition(vgg16)_gray%20scale%20image.ipynb\" target=\"_parent\"><img src=\"https://colab.research.google.com/assets/colab-badge.svg\" alt=\"Open In Colab\"/></a>"
      ]
    },
    {
      "cell_type": "code",
      "metadata": {
        "id": "gzpHvuITjeMv",
        "colab_type": "code",
        "outputId": "1bdff6ef-c3b4-4b2b-aceb-93b72056b4f7",
        "colab": {
          "base_uri": "https://localhost:8080/",
          "height": 204
        }
      },
      "source": [
        "!pip install kaggle"
      ],
      "execution_count": 1,
      "outputs": [
        {
          "output_type": "stream",
          "text": [
            "Requirement already satisfied: kaggle in /usr/local/lib/python3.6/dist-packages (1.5.6)\n",
            "Requirement already satisfied: certifi in /usr/local/lib/python3.6/dist-packages (from kaggle) (2019.11.28)\n",
            "Requirement already satisfied: six>=1.10 in /usr/local/lib/python3.6/dist-packages (from kaggle) (1.12.0)\n",
            "Requirement already satisfied: python-dateutil in /usr/local/lib/python3.6/dist-packages (from kaggle) (2.6.1)\n",
            "Requirement already satisfied: python-slugify in /usr/local/lib/python3.6/dist-packages (from kaggle) (4.0.0)\n",
            "Requirement already satisfied: tqdm in /usr/local/lib/python3.6/dist-packages (from kaggle) (4.28.1)\n",
            "Requirement already satisfied: urllib3<1.25,>=1.21.1 in /usr/local/lib/python3.6/dist-packages (from kaggle) (1.24.3)\n",
            "Requirement already satisfied: requests in /usr/local/lib/python3.6/dist-packages (from kaggle) (2.21.0)\n",
            "Requirement already satisfied: text-unidecode>=1.3 in /usr/local/lib/python3.6/dist-packages (from python-slugify->kaggle) (1.3)\n",
            "Requirement already satisfied: idna<2.9,>=2.5 in /usr/local/lib/python3.6/dist-packages (from requests->kaggle) (2.8)\n",
            "Requirement already satisfied: chardet<3.1.0,>=3.0.2 in /usr/local/lib/python3.6/dist-packages (from requests->kaggle) (3.0.4)\n"
          ],
          "name": "stdout"
        }
      ]
    },
    {
      "cell_type": "code",
      "metadata": {
        "id": "_H083dCtj9LB",
        "colab_type": "code",
        "colab": {}
      },
      "source": [
        "#before importing the dataset we want to use this code\n",
        "# The Kaggle API client expects this file to be in ~/.kaggle,\n",
        "!mkdir -p ~/.kaggle\n",
        "!cp kaggle.json ~/.kaggle/\n",
        "\n",
        "# This permissions change avoids a warning on Kaggle tool startup.\n",
        "!chmod 600 ~/.kaggle/kaggle.json"
      ],
      "execution_count": 0,
      "outputs": []
    },
    {
      "cell_type": "code",
      "metadata": {
        "id": "tTCw0Tkwk3aC",
        "colab_type": "code",
        "outputId": "ee1786e2-3ca8-46b9-98a4-d83b34613f33",
        "colab": {
          "base_uri": "https://localhost:8080/",
          "height": 289
        }
      },
      "source": [
        "!kaggle competitions download -c challenges-in-representation-learning-facial-expression-recognition-challenge"
      ],
      "execution_count": 3,
      "outputs": [
        {
          "output_type": "stream",
          "text": [
            "Warning: Looks like you're using an outdated API Version, please consider updating (server 1.5.6 / client 1.5.4)\n",
            "Downloading train.csv.zip to /content\n",
            " 87% 67.0M/77.3M [00:00<00:00, 92.4MB/s]\n",
            "100% 77.3M/77.3M [00:00<00:00, 132MB/s] \n",
            "Downloading fer2013.tar.gz to /content\n",
            " 86% 79.0M/92.0M [00:00<00:00, 108MB/s] \n",
            "100% 92.0M/92.0M [00:00<00:00, 156MB/s]\n",
            "Downloading test.csv.zip to /content\n",
            " 47% 9.00M/19.3M [00:00<00:00, 32.4MB/s]\n",
            "100% 19.3M/19.3M [00:00<00:00, 55.5MB/s]\n",
            "Downloading icml_face_data.csv.zip to /content\n",
            " 95% 92.0M/96.6M [00:00<00:00, 49.4MB/s]\n",
            "100% 96.6M/96.6M [00:00<00:00, 105MB/s] \n",
            "Downloading example_submission.csv to /content\n",
            "  0% 0.00/7.01k [00:00<?, ?B/s]\n",
            "100% 7.01k/7.01k [00:00<00:00, 6.10MB/s]\n"
          ],
          "name": "stdout"
        }
      ]
    },
    {
      "cell_type": "code",
      "metadata": {
        "id": "aE7Voun1pfQU",
        "colab_type": "code",
        "outputId": "2123da69-1bff-4cfe-c70c-2733701d6f9a",
        "colab": {
          "base_uri": "https://localhost:8080/",
          "height": 85
        }
      },
      "source": [
        "!tar -zxvf fer2013.tar.gz"
      ],
      "execution_count": 4,
      "outputs": [
        {
          "output_type": "stream",
          "text": [
            "fer2013/fer2013.csv\n",
            "fer2013/README\n",
            "fer2013/fer2013.bib\n",
            "fer2013/\n"
          ],
          "name": "stdout"
        }
      ]
    },
    {
      "cell_type": "code",
      "metadata": {
        "id": "KRBzFiNBnZ5M",
        "colab_type": "code",
        "colab": {}
      },
      "source": [
        "import matplotlib.pyplot as plt\n",
        "import pandas as pd\n",
        "import cv2\n",
        "import numpy as np\n",
        "from sklearn.model_selection import train_test_split\n",
        " "
      ],
      "execution_count": 0,
      "outputs": []
    },
    {
      "cell_type": "code",
      "metadata": {
        "id": "8DV4BC7kjIPv",
        "colab_type": "code",
        "outputId": "9f94dbf7-fb15-45e7-ab6a-0ce5ac1aa630",
        "colab": {
          "base_uri": "https://localhost:8080/",
          "height": 51
        }
      },
      "source": [
        "dataset_path = 'fer2013/fer2013.csv'\n",
        "image_size=(48,48)\n",
        " \n",
        "def load_fer2013():\n",
        "    data = pd.read_csv(dataset_path)\n",
        "    pixels = data['pixels'].tolist()\n",
        "    width, height = 48, 48\n",
        "    faces = []\n",
        "    for pixel_sequence in pixels:\n",
        "        face = [int(pixel) for pixel in pixel_sequence.split(' ')]\n",
        "        face = np.asarray(face).reshape(width, height)\n",
        "        face = cv2.resize(face.astype('uint8'),image_size)\n",
        "        faces.append(face.astype('float32'))\n",
        "    faces = np.asarray(faces)\n",
        "    faces = np.expand_dims(faces, -1)\n",
        "    emotions = pd.get_dummies(data['emotion']).as_matrix()\n",
        "    return faces, emotions\n",
        "\n",
        "def preprocess_input(x, v2=True):\n",
        "    x = x.astype('float32')\n",
        "    x = x / 255.0\n",
        "    if v2:\n",
        "        x = x - 0.5\n",
        "        x = x * 2.0\n",
        "    return x\n",
        " \n",
        "faces, emotions = load_fer2013()\n",
        "faces = preprocess_input(faces)\n",
        "xtrain, xtest,ytrain,ytest = train_test_split(faces, emotions,test_size=0.2,shuffle=True)\n"
      ],
      "execution_count": 6,
      "outputs": [
        {
          "output_type": "stream",
          "text": [
            "/usr/local/lib/python3.6/dist-packages/ipykernel_launcher.py:16: FutureWarning: Method .as_matrix will be removed in a future version. Use .values instead.\n",
            "  app.launch_new_instance()\n"
          ],
          "name": "stderr"
        }
      ]
    },
    {
      "cell_type": "code",
      "metadata": {
        "id": "FYroC6hHz5P3",
        "colab_type": "code",
        "outputId": "9dcf558f-c6a5-40b3-d6cb-95ea89004c58",
        "colab": {
          "base_uri": "https://localhost:8080/",
          "height": 34
        }
      },
      "source": [
        "xtrain.shape, ytrain.shape, xtest.shape, ytest.shape"
      ],
      "execution_count": 7,
      "outputs": [
        {
          "output_type": "execute_result",
          "data": {
            "text/plain": [
              "((28709, 48, 48, 1), (28709, 7), (7178, 48, 48, 1), (7178, 7))"
            ]
          },
          "metadata": {
            "tags": []
          },
          "execution_count": 7
        }
      ]
    },
    {
      "cell_type": "code",
      "metadata": {
        "id": "AU4m3HAm0PxP",
        "colab_type": "code",
        "outputId": "de08cb9d-8f9a-47ed-8931-7717fbb70558",
        "colab": {
          "base_uri": "https://localhost:8080/",
          "height": 335
        }
      },
      "source": [
        "plt.imshow(xtrain[0].reshape(48,48),cmap=plt.cm.gray)\n",
        "\n",
        "plt.xlabel(ytrain[0])\n",
        "plt.show()"
      ],
      "execution_count": 0,
      "outputs": [
        {
          "output_type": "stream",
          "text": [
            "/usr/local/lib/python3.6/dist-packages/matplotlib/text.py:1150: FutureWarning: elementwise comparison failed; returning scalar instead, but in the future will perform elementwise comparison\n",
            "  if s != self._text:\n"
          ],
          "name": "stderr"
        },
        {
          "output_type": "display_data",
          "data": {
            "image/png": "[encoded data removed]",
            "text/plain": [
              "<Figure size 432x288 with 1 Axes>"
            ]
          },
          "metadata": {
            "tags": []
          }
        }
      ]
    },
    {
      "cell_type": "code",
      "metadata": {
        "id": "mf5l1FQz-wqB",
        "colab_type": "code",
        "outputId": "c43327d1-40e0-4c29-ebbc-3d0b1f66cbd8",
        "colab": {
          "base_uri": "https://localhost:8080/",
          "height": 80
        }
      },
      "source": [
        "import keras\n",
        "from keras.preprocessing.image import ImageDataGenerator\n",
        "from keras.models import Sequential\n",
        "from keras.layers import Dense, Dropout, Activation, Flatten\n",
        "from keras.layers import Conv2D, MaxPooling2D"
      ],
      "execution_count": 8,
      "outputs": [
        {
          "output_type": "stream",
          "text": [
            "Using TensorFlow backend.\n"
          ],
          "name": "stderr"
        },
        {
          "output_type": "display_data",
          "data": {
            "text/html": [
              "<p style=\"color: red;\">\n",
              "The default version of TensorFlow in Colab will soon switch to TensorFlow 2.x.<br>\n",
              "We recommend you <a href=\"https://www.tensorflow.org/guide/migrate\" target=\"_blank\">upgrade</a> now \n",
              "or ensure your notebook will continue to use TensorFlow 1.x via the <code>%tensorflow_version 1.x</code> magic:\n",
              "<a href=\"https://colab.research.google.com/notebooks/tensorflow_version.ipynb\" target=\"_blank\">more info</a>.</p>\n"
            ],
            "text/plain": [
              "<IPython.core.display.HTML object>"
            ]
          },
          "metadata": {
            "tags": []
          }
        }
      ]
    },
    {
      "cell_type": "code",
      "metadata": {
        "id": "7iHTu6945Tri",
        "colab_type": "code",
        "colab": {}
      },
      "source": [
        "# parameters\n",
        "batch_size = 32\n",
        "input_shape = (48, 48, 1)\n",
        "verbose = 1\n",
        "num_classes = 7\n",
        "\n",
        "# data generator\n",
        "data_generator = ImageDataGenerator(\n",
        "                        featurewise_center=False,\n",
        "                        featurewise_std_normalization=False,\n",
        "                        rotation_range=10,\n",
        "                        width_shift_range=0.1,\n",
        "                        height_shift_range=0.1,\n",
        "                        zoom_range=.1,\n",
        "                        horizontal_flip=True)"
      ],
      "execution_count": 0,
      "outputs": []
    },
    {
      "cell_type": "code",
      "metadata": {
        "id": "Dlm0pqYx0A2o",
        "colab_type": "code",
        "outputId": "2f4a7ebe-1041-4edb-dd89-1a82af0670a9",
        "colab": {
          "base_uri": "https://localhost:8080/",
          "height": 173
        }
      },
      "source": [
        "model =  Sequential()\n",
        "\n",
        "model.add(Conv2D(64, (3, 3), padding='same',input_shape=input_shape))\n",
        "model.add(Conv2D(64, (3, 3), padding='same'))\n",
        "model.add(MaxPooling2D(pool_size=(2, 2)))\n",
        "\n",
        "model.add(Conv2D(128, (3, 3), padding='same'))\n",
        "model.add(Conv2D(128, (3, 3), padding='same'))\n",
        "model.add(MaxPooling2D(pool_size=(2, 2)))\n",
        "\n",
        "model.add(Conv2D(256, (3, 3), padding='same'))\n",
        "model.add(Conv2D(256, (3, 3), padding='same'))\n",
        "model.add(Conv2D(256, (3, 3), padding='same'))\n",
        "model.add(MaxPooling2D(pool_size=(2, 2)))\n",
        "\n",
        "model.add(Conv2D(512, (3, 3), padding='same'))\n",
        "model.add(Conv2D(512, (3, 3), padding='same'))\n",
        "model.add(Conv2D(512, (3, 3), padding='same'))\n",
        "model.add(MaxPooling2D(pool_size=(2, 2)))\n",
        "\n"
      ],
      "execution_count": 10,
      "outputs": [
        {
          "output_type": "stream",
          "text": [
            "WARNING:tensorflow:From /usr/local/lib/python3.6/dist-packages/keras/backend/tensorflow_backend.py:66: The name tf.get_default_graph is deprecated. Please use tf.compat.v1.get_default_graph instead.\n",
            "\n",
            "WARNING:tensorflow:From /usr/local/lib/python3.6/dist-packages/keras/backend/tensorflow_backend.py:541: The name tf.placeholder is deprecated. Please use tf.compat.v1.placeholder instead.\n",
            "\n",
            "WARNING:tensorflow:From /usr/local/lib/python3.6/dist-packages/keras/backend/tensorflow_backend.py:4432: The name tf.random_uniform is deprecated. Please use tf.random.uniform instead.\n",
            "\n",
            "WARNING:tensorflow:From /usr/local/lib/python3.6/dist-packages/keras/backend/tensorflow_backend.py:4267: The name tf.nn.max_pool is deprecated. Please use tf.nn.max_pool2d instead.\n",
            "\n"
          ],
          "name": "stdout"
        }
      ]
    },
    {
      "cell_type": "code",
      "metadata": {
        "id": "2YnR4knc_N6P",
        "colab_type": "code",
        "outputId": "3d70a43e-d540-49bf-be06-7d75fa6f4c0c",
        "colab": {
          "base_uri": "https://localhost:8080/",
          "height": 629
        }
      },
      "source": [
        "model.summary()"
      ],
      "execution_count": 0,
      "outputs": [
        {
          "output_type": "stream",
          "text": [
            "Model: \"sequential_1\"\n",
            "_________________________________________________________________\n",
            "Layer (type)                 Output Shape              Param #   \n",
            "=================================================================\n",
            "conv2d_1 (Conv2D)            (None, 48, 48, 64)        640       \n",
            "_________________________________________________________________\n",
            "conv2d_2 (Conv2D)            (None, 48, 48, 64)        36928     \n",
            "_________________________________________________________________\n",
            "max_pooling2d_1 (MaxPooling2 (None, 24, 24, 64)        0         \n",
            "_________________________________________________________________\n",
            "conv2d_3 (Conv2D)            (None, 24, 24, 128)       73856     \n",
            "_________________________________________________________________\n",
            "conv2d_4 (Conv2D)            (None, 24, 24, 128)       147584    \n",
            "_________________________________________________________________\n",
            "max_pooling2d_2 (MaxPooling2 (None, 12, 12, 128)       0         \n",
            "_________________________________________________________________\n",
            "conv2d_5 (Conv2D)            (None, 12, 12, 256)       295168    \n",
            "_________________________________________________________________\n",
            "conv2d_6 (Conv2D)            (None, 12, 12, 256)       590080    \n",
            "_________________________________________________________________\n",
            "conv2d_7 (Conv2D)            (None, 12, 12, 256)       590080    \n",
            "_________________________________________________________________\n",
            "max_pooling2d_3 (MaxPooling2 (None, 6, 6, 256)         0         \n",
            "_________________________________________________________________\n",
            "conv2d_8 (Conv2D)            (None, 6, 6, 512)         1180160   \n",
            "_________________________________________________________________\n",
            "conv2d_9 (Conv2D)            (None, 6, 6, 512)         2359808   \n",
            "_________________________________________________________________\n",
            "conv2d_10 (Conv2D)           (None, 6, 6, 512)         2359808   \n",
            "_________________________________________________________________\n",
            "max_pooling2d_4 (MaxPooling2 (None, 3, 3, 512)         0         \n",
            "=================================================================\n",
            "Total params: 7,634,112\n",
            "Trainable params: 7,634,112\n",
            "Non-trainable params: 0\n",
            "_________________________________________________________________\n"
          ],
          "name": "stdout"
        }
      ]
    },
    {
      "cell_type": "code",
      "metadata": {
        "id": "w-rd_kSREaHc",
        "colab_type": "code",
        "outputId": "2c8e1a68-e1d0-4ada-afe1-ddfddffa5460",
        "colab": {
          "base_uri": "https://localhost:8080/",
          "height": 1000
        }
      },
      "source": [
        "\n",
        "model.add(Flatten())\n",
        "model.add(Dense(4096))\n",
        "model.add(Activation('relu'))\n",
        "model.add(Dense(4096))\n",
        "model.add(Activation('relu'))\n",
        "model.add(Dense(1000))\n",
        "model.add(Activation('relu'))\n",
        "model.add(Dropout(0.2))\n",
        "model.add(Dense(num_classes, activation='softmax'))\n",
        "\n",
        "model.summary() ### replication of vgg 16 for gray scale image ###"
      ],
      "execution_count": 11,
      "outputs": [
        {
          "output_type": "stream",
          "text": [
            "WARNING:tensorflow:From /usr/local/lib/python3.6/dist-packages/keras/backend/tensorflow_backend.py:148: The name tf.placeholder_with_default is deprecated. Please use tf.compat.v1.placeholder_with_default instead.\n",
            "\n",
            "WARNING:tensorflow:From /usr/local/lib/python3.6/dist-packages/keras/backend/tensorflow_backend.py:3733: calling dropout (from tensorflow.python.ops.nn_ops) with keep_prob is deprecated and will be removed in a future version.\n",
            "Instructions for updating:\n",
            "Please use `rate` instead of `keep_prob`. Rate should be set to `rate = 1 - keep_prob`.\n",
            "Model: \"sequential_1\"\n",
            "_________________________________________________________________\n",
            "Layer (type)                 Output Shape              Param #   \n",
            "=================================================================\n",
            "conv2d_1 (Conv2D)            (None, 48, 48, 64)        640       \n",
            "_________________________________________________________________\n",
            "conv2d_2 (Conv2D)            (None, 48, 48, 64)        36928     \n",
            "_________________________________________________________________\n",
            "max_pooling2d_1 (MaxPooling2 (None, 24, 24, 64)        0         \n",
            "_________________________________________________________________\n",
            "conv2d_3 (Conv2D)            (None, 24, 24, 128)       73856     \n",
            "_________________________________________________________________\n",
            "conv2d_4 (Conv2D)            (None, 24, 24, 128)       147584    \n",
            "_________________________________________________________________\n",
            "max_pooling2d_2 (MaxPooling2 (None, 12, 12, 128)       0         \n",
            "_________________________________________________________________\n",
            "conv2d_5 (Conv2D)            (None, 12, 12, 256)       295168    \n",
            "_________________________________________________________________\n",
            "conv2d_6 (Conv2D)            (None, 12, 12, 256)       590080    \n",
            "_________________________________________________________________\n",
            "conv2d_7 (Conv2D)            (None, 12, 12, 256)       590080    \n",
            "_________________________________________________________________\n",
            "max_pooling2d_3 (MaxPooling2 (None, 6, 6, 256)         0         \n",
            "_________________________________________________________________\n",
            "conv2d_8 (Conv2D)            (None, 6, 6, 512)         1180160   \n",
            "_________________________________________________________________\n",
            "conv2d_9 (Conv2D)            (None, 6, 6, 512)         2359808   \n",
            "_________________________________________________________________\n",
            "conv2d_10 (Conv2D)           (None, 6, 6, 512)         2359808   \n",
            "_________________________________________________________________\n",
            "max_pooling2d_4 (MaxPooling2 (None, 3, 3, 512)         0         \n",
            "_________________________________________________________________\n",
            "flatten_1 (Flatten)          (None, 4608)              0         \n",
            "_________________________________________________________________\n",
            "dense_1 (Dense)              (None, 4096)              18878464  \n",
            "_________________________________________________________________\n",
            "activation_1 (Activation)    (None, 4096)              0         \n",
            "_________________________________________________________________\n",
            "dense_2 (Dense)              (None, 4096)              16781312  \n",
            "_________________________________________________________________\n",
            "activation_2 (Activation)    (None, 4096)              0         \n",
            "_________________________________________________________________\n",
            "dense_3 (Dense)              (None, 1000)              4097000   \n",
            "_________________________________________________________________\n",
            "activation_3 (Activation)    (None, 1000)              0         \n",
            "_________________________________________________________________\n",
            "dropout_1 (Dropout)          (None, 1000)              0         \n",
            "_________________________________________________________________\n",
            "dense_4 (Dense)              (None, 7)                 7007      \n",
            "=================================================================\n",
            "Total params: 47,397,895\n",
            "Trainable params: 47,397,895\n",
            "Non-trainable params: 0\n",
            "_________________________________________________________________\n"
          ],
          "name": "stdout"
        }
      ]
    },
    {
      "cell_type": "code",
      "metadata": {
        "id": "37DduUYQLQNc",
        "colab_type": "code",
        "outputId": "13461463-5cf2-4c6d-948b-d710a8924206",
        "colab": {
          "base_uri": "https://localhost:8080/",
          "height": 1000
        }
      },
      "source": [
        "num_epochs = 50\n",
        "\n",
        "from keras.optimizers import SGD\n",
        "opt = SGD(lr=0.001)\n",
        "model.compile( loss='categorical_crossentropy',metrics=['accuracy'],optimizer = opt)\n",
        "\n",
        "model.fit_generator(data_generator.flow(xtrain, ytrain,batch_size),\n",
        "                        steps_per_epoch=len(xtrain) / batch_size,\n",
        "                        epochs=num_epochs, verbose=1, \n",
        "                        validation_data=(xtest,ytest))"
      ],
      "execution_count": 12,
      "outputs": [
        {
          "output_type": "stream",
          "text": [
            "WARNING:tensorflow:From /usr/local/lib/python3.6/dist-packages/keras/optimizers.py:793: The name tf.train.Optimizer is deprecated. Please use tf.compat.v1.train.Optimizer instead.\n",
            "\n",
            "WARNING:tensorflow:From /usr/local/lib/python3.6/dist-packages/keras/backend/tensorflow_backend.py:3576: The name tf.log is deprecated. Please use tf.math.log instead.\n",
            "\n",
            "WARNING:tensorflow:From /usr/local/lib/python3.6/dist-packages/tensorflow_core/python/ops/math_grad.py:1424: where (from tensorflow.python.ops.array_ops) is deprecated and will be removed in a future version.\n",
            "Instructions for updating:\n",
            "Use tf.where in 2.0, which has the same broadcast rule as np.where\n",
            "WARNING:tensorflow:From /usr/local/lib/python3.6/dist-packages/keras/backend/tensorflow_backend.py:1033: The name tf.assign_add is deprecated. Please use tf.compat.v1.assign_add instead.\n",
            "\n",
            "WARNING:tensorflow:From /usr/local/lib/python3.6/dist-packages/keras/backend/tensorflow_backend.py:1020: The name tf.assign is deprecated. Please use tf.compat.v1.assign instead.\n",
            "\n",
            "WARNING:tensorflow:From /usr/local/lib/python3.6/dist-packages/keras/backend/tensorflow_backend.py:3005: The name tf.Session is deprecated. Please use tf.compat.v1.Session instead.\n",
            "\n",
            "Epoch 1/50\n",
            "WARNING:tensorflow:From /usr/local/lib/python3.6/dist-packages/keras/backend/tensorflow_backend.py:190: The name tf.get_default_session is deprecated. Please use tf.compat.v1.get_default_session instead.\n",
            "\n",
            "WARNING:tensorflow:From /usr/local/lib/python3.6/dist-packages/keras/backend/tensorflow_backend.py:197: The name tf.ConfigProto is deprecated. Please use tf.compat.v1.ConfigProto instead.\n",
            "\n",
            "WARNING:tensorflow:From /usr/local/lib/python3.6/dist-packages/keras/backend/tensorflow_backend.py:207: The name tf.global_variables is deprecated. Please use tf.compat.v1.global_variables instead.\n",
            "\n",
            "WARNING:tensorflow:From /usr/local/lib/python3.6/dist-packages/keras/backend/tensorflow_backend.py:216: The name tf.is_variable_initialized is deprecated. Please use tf.compat.v1.is_variable_initialized instead.\n",
            "\n",
            "WARNING:tensorflow:From /usr/local/lib/python3.6/dist-packages/keras/backend/tensorflow_backend.py:223: The name tf.variables_initializer is deprecated. Please use tf.compat.v1.variables_initializer instead.\n",
            "\n",
            "898/897 [==============================] - 55s 61ms/step - loss: 1.8453 - acc: 0.2490 - val_loss: 1.7757 - val_acc: 0.2616\n",
            "Epoch 2/50\n",
            "898/897 [==============================] - 39s 43ms/step - loss: 1.7738 - acc: 0.2643 - val_loss: 1.7531 - val_acc: 0.2866\n",
            "Epoch 3/50\n",
            "898/897 [==============================] - 40s 44ms/step - loss: 1.7615 - acc: 0.2770 - val_loss: 1.7344 - val_acc: 0.3004\n",
            "Epoch 4/50\n",
            "898/897 [==============================] - 39s 44ms/step - loss: 1.7470 - acc: 0.2919 - val_loss: 1.7097 - val_acc: 0.3143\n",
            "Epoch 5/50\n",
            "898/897 [==============================] - 40s 44ms/step - loss: 1.7279 - acc: 0.3045 - val_loss: 1.6834 - val_acc: 0.3388\n",
            "Epoch 6/50\n",
            "898/897 [==============================] - 39s 44ms/step - loss: 1.7143 - acc: 0.3098 - val_loss: 1.6570 - val_acc: 0.3465\n",
            "Epoch 7/50\n",
            "898/897 [==============================] - 39s 44ms/step - loss: 1.6980 - acc: 0.3190 - val_loss: 1.6378 - val_acc: 0.3670\n",
            "Epoch 8/50\n",
            "898/897 [==============================] - 39s 44ms/step - loss: 1.6848 - acc: 0.3317 - val_loss: 1.6168 - val_acc: 0.3742\n",
            "Epoch 9/50\n",
            "898/897 [==============================] - 39s 44ms/step - loss: 1.6654 - acc: 0.3398 - val_loss: 1.5941 - val_acc: 0.3881\n",
            "Epoch 10/50\n",
            "898/897 [==============================] - 39s 44ms/step - loss: 1.6517 - acc: 0.3485 - val_loss: 1.5740 - val_acc: 0.3915\n",
            "Epoch 11/50\n",
            "898/897 [==============================] - 39s 44ms/step - loss: 1.6353 - acc: 0.3588 - val_loss: 1.5525 - val_acc: 0.4053\n",
            "Epoch 12/50\n",
            "898/897 [==============================] - 39s 44ms/step - loss: 1.6175 - acc: 0.3676 - val_loss: 1.5435 - val_acc: 0.4026\n",
            "Epoch 13/50\n",
            "898/897 [==============================] - 39s 44ms/step - loss: 1.6046 - acc: 0.3750 - val_loss: 1.5271 - val_acc: 0.4228\n",
            "Epoch 14/50\n",
            "898/897 [==============================] - 39s 44ms/step - loss: 1.5913 - acc: 0.3793 - val_loss: 1.5195 - val_acc: 0.4249\n",
            "Epoch 15/50\n",
            "898/897 [==============================] - 39s 44ms/step - loss: 1.5757 - acc: 0.3889 - val_loss: 1.5102 - val_acc: 0.4237\n",
            "Epoch 16/50\n",
            "898/897 [==============================] - 40s 44ms/step - loss: 1.5685 - acc: 0.3936 - val_loss: 1.4834 - val_acc: 0.4376\n",
            "Epoch 17/50\n",
            "898/897 [==============================] - 40s 44ms/step - loss: 1.5551 - acc: 0.3997 - val_loss: 1.4899 - val_acc: 0.4291\n",
            "Epoch 18/50\n",
            "898/897 [==============================] - 39s 44ms/step - loss: 1.5401 - acc: 0.4054 - val_loss: 1.4681 - val_acc: 0.4455\n",
            "Epoch 19/50\n",
            "898/897 [==============================] - 39s 44ms/step - loss: 1.5315 - acc: 0.4093 - val_loss: 1.4695 - val_acc: 0.4519\n",
            "Epoch 20/50\n",
            "898/897 [==============================] - 39s 44ms/step - loss: 1.5222 - acc: 0.4142 - val_loss: 1.4525 - val_acc: 0.4444\n",
            "Epoch 21/50\n",
            "898/897 [==============================] - 39s 44ms/step - loss: 1.5109 - acc: 0.4192 - val_loss: 1.4318 - val_acc: 0.4557\n",
            "Epoch 22/50\n",
            "898/897 [==============================] - 39s 44ms/step - loss: 1.4983 - acc: 0.4218 - val_loss: 1.4159 - val_acc: 0.4606\n",
            "Epoch 23/50\n",
            "898/897 [==============================] - 39s 44ms/step - loss: 1.4897 - acc: 0.4237 - val_loss: 1.4120 - val_acc: 0.4600\n",
            "Epoch 24/50\n",
            "898/897 [==============================] - 39s 44ms/step - loss: 1.4785 - acc: 0.4300 - val_loss: 1.4110 - val_acc: 0.4615\n",
            "Epoch 25/50\n",
            "898/897 [==============================] - 39s 44ms/step - loss: 1.4714 - acc: 0.4333 - val_loss: 1.3905 - val_acc: 0.4738\n",
            "Epoch 26/50\n",
            "898/897 [==============================] - 39s 44ms/step - loss: 1.4569 - acc: 0.4402 - val_loss: 1.3927 - val_acc: 0.4696\n",
            "Epoch 27/50\n",
            "898/897 [==============================] - 39s 44ms/step - loss: 1.4522 - acc: 0.4406 - val_loss: 1.3857 - val_acc: 0.4713\n",
            "Epoch 28/50\n",
            "898/897 [==============================] - 39s 44ms/step - loss: 1.4417 - acc: 0.4440 - val_loss: 1.3897 - val_acc: 0.4689\n",
            "Epoch 29/50\n",
            "898/897 [==============================] - 39s 44ms/step - loss: 1.4357 - acc: 0.4483 - val_loss: 1.3622 - val_acc: 0.4798\n",
            "Epoch 30/50\n",
            "898/897 [==============================] - 39s 44ms/step - loss: 1.4254 - acc: 0.4519 - val_loss: 1.3417 - val_acc: 0.4950\n",
            "Epoch 31/50\n",
            "898/897 [==============================] - 39s 44ms/step - loss: 1.4163 - acc: 0.4568 - val_loss: 1.3498 - val_acc: 0.4887\n",
            "Epoch 32/50\n",
            "898/897 [==============================] - 39s 44ms/step - loss: 1.4099 - acc: 0.4599 - val_loss: 1.3360 - val_acc: 0.4971\n",
            "Epoch 33/50\n",
            "898/897 [==============================] - 39s 44ms/step - loss: 1.4000 - acc: 0.4623 - val_loss: 1.3348 - val_acc: 0.4909\n",
            "Epoch 34/50\n",
            "898/897 [==============================] - 39s 44ms/step - loss: 1.3881 - acc: 0.4695 - val_loss: 1.3311 - val_acc: 0.4884\n",
            "Epoch 35/50\n",
            "898/897 [==============================] - 39s 44ms/step - loss: 1.3831 - acc: 0.4739 - val_loss: 1.3080 - val_acc: 0.5056\n",
            "Epoch 36/50\n",
            "898/897 [==============================] - 39s 44ms/step - loss: 1.3745 - acc: 0.4748 - val_loss: 1.3178 - val_acc: 0.4999\n",
            "Epoch 37/50\n",
            "898/897 [==============================] - 39s 44ms/step - loss: 1.3647 - acc: 0.4811 - val_loss: 1.2981 - val_acc: 0.5082\n",
            "Epoch 38/50\n",
            "898/897 [==============================] - 39s 44ms/step - loss: 1.3582 - acc: 0.4784 - val_loss: 1.2901 - val_acc: 0.5128\n",
            "Epoch 39/50\n",
            "898/897 [==============================] - 39s 44ms/step - loss: 1.3488 - acc: 0.4854 - val_loss: 1.2799 - val_acc: 0.5148\n",
            "Epoch 40/50\n",
            "898/897 [==============================] - 39s 44ms/step - loss: 1.3445 - acc: 0.4871 - val_loss: 1.2928 - val_acc: 0.5118\n",
            "Epoch 41/50\n",
            "898/897 [==============================] - 39s 44ms/step - loss: 1.3329 - acc: 0.4909 - val_loss: 1.2723 - val_acc: 0.5220\n",
            "Epoch 42/50\n",
            "898/897 [==============================] - 39s 44ms/step - loss: 1.3247 - acc: 0.4964 - val_loss: 1.2609 - val_acc: 0.5230\n",
            "Epoch 43/50\n",
            "898/897 [==============================] - 39s 44ms/step - loss: 1.3150 - acc: 0.4976 - val_loss: 1.2679 - val_acc: 0.5166\n",
            "Epoch 44/50\n",
            "898/897 [==============================] - 39s 44ms/step - loss: 1.3109 - acc: 0.5015 - val_loss: 1.2441 - val_acc: 0.5290\n",
            "Epoch 45/50\n",
            "898/897 [==============================] - 40s 44ms/step - loss: 1.3055 - acc: 0.5030 - val_loss: 1.2477 - val_acc: 0.5256\n",
            "Epoch 46/50\n",
            "898/897 [==============================] - 39s 44ms/step - loss: 1.2863 - acc: 0.5095 - val_loss: 1.2407 - val_acc: 0.5304\n",
            "Epoch 47/50\n",
            "898/897 [==============================] - 39s 44ms/step - loss: 1.2838 - acc: 0.5125 - val_loss: 1.2385 - val_acc: 0.5332\n",
            "Epoch 48/50\n",
            "898/897 [==============================] - 39s 44ms/step - loss: 1.2809 - acc: 0.5123 - val_loss: 1.2209 - val_acc: 0.5389\n",
            "Epoch 49/50\n",
            "898/897 [==============================] - 39s 44ms/step - loss: 1.2702 - acc: 0.5171 - val_loss: 1.2345 - val_acc: 0.5300\n",
            "Epoch 50/50\n",
            "898/897 [==============================] - 39s 44ms/step - loss: 1.2621 - acc: 0.5210 - val_loss: 1.2247 - val_acc: 0.5340\n"
          ],
          "name": "stdout"
        },
        {
          "output_type": "execute_result",
          "data": {
            "text/plain": [
              "<keras.callbacks.History at 0x7fcba4675748>"
            ]
          },
          "metadata": {
            "tags": []
          },
          "execution_count": 12
        }
      ]
    },
    {
      "cell_type": "code",
      "metadata": {
        "id": "9j9V5zvz1wUI",
        "colab_type": "code",
        "colab": {}
      },
      "source": [
        ""
      ],
      "execution_count": 0,
      "outputs": []
    }
  ]
}