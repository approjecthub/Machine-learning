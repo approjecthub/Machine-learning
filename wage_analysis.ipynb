{
  "nbformat": 4,
  "nbformat_minor": 0,
  "metadata": {
    "colab": {
      "name": "wage analysis.ipynb",
      "version": "0.3.2",
      "provenance": [],
      "include_colab_link": true
    },
    "kernelspec": {
      "display_name": "Python 3",
      "language": "python",
      "name": "python3"
    }
  },
  "cells": [
    {
      "cell_type": "markdown",
      "metadata": {
        "id": "view-in-github",
        "colab_type": "text"
      },
      "source": [
        "<a href=\"https://colab.research.google.com/github/approjecthub/Machine-learning/blob/master/wage_analysis.ipynb\" target=\"_parent\"><img src=\"https://colab.research.google.com/assets/colab-badge.svg\" alt=\"Open In Colab\"/></a>"
      ]
    },
    {
      "metadata": {
        "id": "TRkyiZPzsXH4",
        "colab_type": "text"
      },
      "cell_type": "markdown",
      "source": [
        "# Problem Statement:\n",
        "\n",
        "https://github.com/approjecthub/Machine-learning/blob/master/Datasets/Q1.jpg"
      ]
    },
    {
      "metadata": {
        "id": "eiOrzHPddB13",
        "colab_type": "code",
        "colab": {}
      },
      "cell_type": "code",
      "source": [
        "import numpy as np\n",
        "import pandas as pd\n",
        "import matplotlib.pyplot as plt\n",
        "from sklearn import preprocessing\n",
        "from sklearn.model_selection import train_test_split\n",
        "from sklearn.metrics import accuracy_score, confusion_matrix, recall_score\n",
        "from imblearn.over_sampling import SMOTE"
      ],
      "execution_count": 0,
      "outputs": []
    },
    {
      "metadata": {
        "id": "muNJLSVfdB2L",
        "colab_type": "code",
        "outputId": "e1e571a4-2e16-41a0-9d53-fa5297a54fb1",
        "colab": {
          "base_uri": "https://localhost:8080/",
          "height": 210
        }
      },
      "cell_type": "code",
      "source": [
        "data = pd.read_csv('https://raw.githubusercontent.com/approjecthub/Machine-learning/master/Datasets/Wage.csv')\n",
        "print(data.shape)\n",
        "print(data.columns)\n",
        "data.head(3)"
      ],
      "execution_count": 3,
      "outputs": [
        {
          "output_type": "stream",
          "text": [
            "(3000, 11)\n",
            "Index(['year', 'age', 'sex', 'maritl', 'race', 'education', 'region',\n",
            "       'jobclass', 'health', 'health_ins', 'wage'],\n",
            "      dtype='object')\n"
          ],
          "name": "stdout"
        },
        {
          "output_type": "execute_result",
          "data": {
            "text/html": [
              "<div>\n",
              "<style scoped>\n",
              "    .dataframe tbody tr th:only-of-type {\n",
              "        vertical-align: middle;\n",
              "    }\n",
              "\n",
              "    .dataframe tbody tr th {\n",
              "        vertical-align: top;\n",
              "    }\n",
              "\n",
              "    .dataframe thead th {\n",
              "        text-align: right;\n",
              "    }\n",
              "</style>\n",
              "<table border=\"1\" class=\"dataframe\">\n",
              "  <thead>\n",
              "    <tr style=\"text-align: right;\">\n",
              "      <th></th>\n",
              "      <th>year</th>\n",
              "      <th>age</th>\n",
              "      <th>sex</th>\n",
              "      <th>maritl</th>\n",
              "      <th>race</th>\n",
              "      <th>education</th>\n",
              "      <th>region</th>\n",
              "      <th>jobclass</th>\n",
              "      <th>health</th>\n",
              "      <th>health_ins</th>\n",
              "      <th>wage</th>\n",
              "    </tr>\n",
              "  </thead>\n",
              "  <tbody>\n",
              "    <tr>\n",
              "      <th>0</th>\n",
              "      <td>2006</td>\n",
              "      <td>18</td>\n",
              "      <td>1. Male</td>\n",
              "      <td>1. Never Married</td>\n",
              "      <td>1. White</td>\n",
              "      <td>1. &lt; HS Grad</td>\n",
              "      <td>2. Middle Atlantic</td>\n",
              "      <td>1. Industrial</td>\n",
              "      <td>1. &lt;=Good</td>\n",
              "      <td>2. No</td>\n",
              "      <td>75.0</td>\n",
              "    </tr>\n",
              "    <tr>\n",
              "      <th>1</th>\n",
              "      <td>2004</td>\n",
              "      <td>24</td>\n",
              "      <td>1. Male</td>\n",
              "      <td>1. Never Married</td>\n",
              "      <td>1. White</td>\n",
              "      <td>4. College Grad</td>\n",
              "      <td>2. Middle Atlantic</td>\n",
              "      <td>2. Information</td>\n",
              "      <td>2. &gt;=Very Good</td>\n",
              "      <td>2. No</td>\n",
              "      <td>70.5</td>\n",
              "    </tr>\n",
              "    <tr>\n",
              "      <th>2</th>\n",
              "      <td>2003</td>\n",
              "      <td>45</td>\n",
              "      <td>1. Male</td>\n",
              "      <td>2. Married</td>\n",
              "      <td>1. White</td>\n",
              "      <td>3. Some College</td>\n",
              "      <td>2. Middle Atlantic</td>\n",
              "      <td>1. Industrial</td>\n",
              "      <td>1. &lt;=Good</td>\n",
              "      <td>1. Yes</td>\n",
              "      <td>131.0</td>\n",
              "    </tr>\n",
              "  </tbody>\n",
              "</table>\n",
              "</div>"
            ],
            "text/plain": [
              "   year  age      sex            maritl      race        education  \\\n",
              "0  2006   18  1. Male  1. Never Married  1. White     1. < HS Grad   \n",
              "1  2004   24  1. Male  1. Never Married  1. White  4. College Grad   \n",
              "2  2003   45  1. Male        2. Married  1. White  3. Some College   \n",
              "\n",
              "               region        jobclass          health health_ins   wage  \n",
              "0  2. Middle Atlantic   1. Industrial       1. <=Good      2. No   75.0  \n",
              "1  2. Middle Atlantic  2. Information  2. >=Very Good      2. No   70.5  \n",
              "2  2. Middle Atlantic   1. Industrial       1. <=Good     1. Yes  131.0  "
            ]
          },
          "metadata": {
            "tags": []
          },
          "execution_count": 3
        }
      ]
    },
    {
      "metadata": {
        "id": "3_jiMdwrdB2c",
        "colab_type": "code",
        "colab": {}
      },
      "cell_type": "code",
      "source": [
        "data2 = data.copy()"
      ],
      "execution_count": 0,
      "outputs": []
    },
    {
      "metadata": {
        "id": "0DPOZhihdB2x",
        "colab_type": "code",
        "outputId": "1e8b59d6-43df-44d7-db68-cb3254a6a6b4",
        "colab": {
          "base_uri": "https://localhost:8080/",
          "height": 347
        }
      },
      "cell_type": "code",
      "source": [
        "plt.hist(data2['wage'])\n",
        "plt.show()"
      ],
      "execution_count": 5,
      "outputs": [
        {
          "output_type": "display_data",
          "data": {
            "image/png": "[encoded data removed]",
            "text/plain": [
              "<Figure size 576x396 with 1 Axes>"
            ]
          },
          "metadata": {
            "tags": []
          }
        }
      ]
    },
    {
      "metadata": {
        "id": "qEgRSfJCujHK",
        "colab_type": "text"
      },
      "cell_type": "markdown",
      "source": [
        "Here We want to classify labours whose wages are more than 250.0.\n",
        "Hence by judging the plot, we can say it is a imbalanced class.\n"
      ]
    },
    {
      "metadata": {
        "id": "L3eBwvR3dB29",
        "colab_type": "code",
        "outputId": "70ac85d6-4eb9-41fc-8b4a-244a4f0a1daa",
        "colab": {}
      },
      "cell_type": "code",
      "source": [
        "g = data2[data2['wage']>=250]\n",
        "plt.hist(g['wage'])\n",
        "plt.show()\n",
        "len(g),len(data2)"
      ],
      "execution_count": 0,
      "outputs": [
        {
          "output_type": "display_data",
          "data": {
            "image/png": "[encoded data removed]",
            "text/plain": [
              "<Figure size 432x288 with 1 Axes>"
            ]
          },
          "metadata": {
            "tags": []
          }
        },
        {
          "output_type": "execute_result",
          "data": {
            "text/plain": [
              "(79, 3000)"
            ]
          },
          "metadata": {
            "tags": []
          },
          "execution_count": 5
        }
      ]
    },
    {
      "metadata": {
        "id": "YKkOYG8TdB3I",
        "colab_type": "code",
        "outputId": "f0669ad8-e19d-495e-f376-d244dce3f70a",
        "colab": {}
      },
      "cell_type": "code",
      "source": [
        "g.wage.min(), g.wage.max()"
      ],
      "execution_count": 0,
      "outputs": [
        {
          "output_type": "execute_result",
          "data": {
            "text/plain": [
              "(256.4, 318.3)"
            ]
          },
          "metadata": {
            "tags": []
          },
          "execution_count": 6
        }
      ]
    },
    {
      "metadata": {
        "id": "C2D-lh4idB3U",
        "colab_type": "code",
        "outputId": "185f165e-723a-4a42-db28-11c2c1a4718b",
        "colab": {}
      },
      "cell_type": "code",
      "source": [
        "l = data2[data2['wage']<250]\n",
        "plt.hist(l['wage'])\n",
        "plt.show()\n",
        "len(l),len(g)"
      ],
      "execution_count": 0,
      "outputs": [
        {
          "output_type": "display_data",
          "data": {
            "image/png": "[encoded data removed]",
            "text/plain": [
              "<Figure size 432x288 with 1 Axes>"
            ]
          },
          "metadata": {
            "tags": []
          }
        },
        {
          "output_type": "execute_result",
          "data": {
            "text/plain": [
              "(2921, 79)"
            ]
          },
          "metadata": {
            "tags": []
          },
          "execution_count": 7
        }
      ]
    },
    {
      "metadata": {
        "id": "eWo76NmIdB3g",
        "colab_type": "text"
      },
      "cell_type": "markdown",
      "source": [
        "count of salary value less than 250 is 2921 & greater than 250 is 79. Hence it's a imbalance classification problem."
      ]
    },
    {
      "metadata": {
        "id": "AcBNnBEpdB3j",
        "colab_type": "code",
        "outputId": "29a0e57e-a957-4058-fc56-34d6d4ee20c8",
        "colab": {}
      },
      "cell_type": "code",
      "source": [
        "g['wage']=1\n",
        "l['wage']=0"
      ],
      "execution_count": 0,
      "outputs": [
        {
          "output_type": "stream",
          "text": [
            "C:\\ProgramData\\Anaconda3\\lib\\site-packages\\ipykernel_launcher.py:1: SettingWithCopyWarning: \n",
            "A value is trying to be set on a copy of a slice from a DataFrame.\n",
            "Try using .loc[row_indexer,col_indexer] = value instead\n",
            "\n",
            "See the caveats in the documentation: http://pandas.pydata.org/pandas-docs/stable/indexing.html#indexing-view-versus-copy\n",
            "  \"\"\"Entry point for launching an IPython kernel.\n",
            "C:\\ProgramData\\Anaconda3\\lib\\site-packages\\ipykernel_launcher.py:2: SettingWithCopyWarning: \n",
            "A value is trying to be set on a copy of a slice from a DataFrame.\n",
            "Try using .loc[row_indexer,col_indexer] = value instead\n",
            "\n",
            "See the caveats in the documentation: http://pandas.pydata.org/pandas-docs/stable/indexing.html#indexing-view-versus-copy\n",
            "  \n"
          ],
          "name": "stderr"
        }
      ]
    },
    {
      "metadata": {
        "id": "S4Q9JDlddB3u",
        "colab_type": "code",
        "colab": {}
      },
      "cell_type": "code",
      "source": [
        "X = pd.concat([g,l],axis=0)"
      ],
      "execution_count": 0,
      "outputs": []
    },
    {
      "metadata": {
        "id": "stNMOiXzdB31",
        "colab_type": "code",
        "outputId": "f20a883b-14f1-4f48-e69c-22376cc45c4c",
        "colab": {}
      },
      "cell_type": "code",
      "source": [
        "np.unique(X.wage)"
      ],
      "execution_count": 0,
      "outputs": [
        {
          "output_type": "execute_result",
          "data": {
            "text/plain": [
              "array([0, 1], dtype=int64)"
            ]
          },
          "metadata": {
            "tags": []
          },
          "execution_count": 10
        }
      ]
    },
    {
      "metadata": {
        "id": "N8spgt7gdB4B",
        "colab_type": "code",
        "colab": {}
      },
      "cell_type": "code",
      "source": [
        "data2 = X"
      ],
      "execution_count": 0,
      "outputs": []
    },
    {
      "metadata": {
        "id": "kk-A9WpDdB4J",
        "colab_type": "code",
        "outputId": "ba427a50-8868-44d3-da72-0d2eefbb1cfe",
        "colab": {}
      },
      "cell_type": "code",
      "source": [
        "data.loc[data['wage'].idxmax()]"
      ],
      "execution_count": 0,
      "outputs": [
        {
          "output_type": "execute_result",
          "data": {
            "text/plain": [
              "year                        2007\n",
              "age                           63\n",
              "sex                      1. Male\n",
              "maritl                2. Married\n",
              "race                    2. Black\n",
              "education     5. Advanced Degree\n",
              "region        2. Middle Atlantic\n",
              "jobclass          2. Information\n",
              "health            2. >=Very Good\n",
              "health_ins                1. Yes\n",
              "wage                       318.3\n",
              "Name: 206, dtype: object"
            ]
          },
          "metadata": {
            "tags": []
          },
          "execution_count": 12
        }
      ]
    },
    {
      "metadata": {
        "id": "8eArnxZDdB4W",
        "colab_type": "code",
        "outputId": "434b1e95-cc0a-4078-bb9c-723d610936d9",
        "colab": {}
      },
      "cell_type": "code",
      "source": [
        "#relation between year & wage\n",
        "plt.scatter(data['year'],data['wage'])"
      ],
      "execution_count": 0,
      "outputs": [
        {
          "output_type": "execute_result",
          "data": {
            "text/plain": [
              "<matplotlib.collections.PathCollection at 0x586d748>"
            ]
          },
          "metadata": {
            "tags": []
          },
          "execution_count": 19
        },
        {
          "output_type": "display_data",
          "data": {
            "image/png": "[encoded data removed]",
            "text/plain": [
              "<Figure size 432x288 with 1 Axes>"
            ]
          },
          "metadata": {
            "tags": []
          }
        }
      ]
    },
    {
      "metadata": {
        "id": "Wk9QM1wjdB4l",
        "colab_type": "code",
        "outputId": "41c010b3-d09c-4bb8-ae9f-49b3c17f031c",
        "colab": {}
      },
      "cell_type": "code",
      "source": [
        "#relation between age & wage\n",
        "plt.scatter(data['age'],data['wage'])"
      ],
      "execution_count": 0,
      "outputs": [
        {
          "output_type": "execute_result",
          "data": {
            "text/plain": [
              "<matplotlib.collections.PathCollection at 0xaac6518>"
            ]
          },
          "metadata": {
            "tags": []
          },
          "execution_count": 30
        },
        {
          "output_type": "display_data",
          "data": {
            "image/png": "[encoded data removed]",
            "text/plain": [
              "<Figure size 432x288 with 1 Axes>"
            ]
          },
          "metadata": {
            "tags": []
          }
        }
      ]
    },
    {
      "metadata": {
        "id": "_BaqngkRdB48",
        "colab_type": "code",
        "outputId": "3a92846d-291c-49f4-c4f6-3a865ce4047f",
        "colab": {}
      },
      "cell_type": "code",
      "source": [
        "data2.head()"
      ],
      "execution_count": 0,
      "outputs": [
        {
          "output_type": "execute_result",
          "data": {
            "text/html": [
              "<div>\n",
              "<style scoped>\n",
              "    .dataframe tbody tr th:only-of-type {\n",
              "        vertical-align: middle;\n",
              "    }\n",
              "\n",
              "    .dataframe tbody tr th {\n",
              "        vertical-align: top;\n",
              "    }\n",
              "\n",
              "    .dataframe thead th {\n",
              "        text-align: right;\n",
              "    }\n",
              "</style>\n",
              "<table border=\"1\" class=\"dataframe\">\n",
              "  <thead>\n",
              "    <tr style=\"text-align: right;\">\n",
              "      <th></th>\n",
              "      <th>year</th>\n",
              "      <th>age</th>\n",
              "      <th>sex</th>\n",
              "      <th>maritl</th>\n",
              "      <th>race</th>\n",
              "      <th>education</th>\n",
              "      <th>region</th>\n",
              "      <th>jobclass</th>\n",
              "      <th>health</th>\n",
              "      <th>health_ins</th>\n",
              "      <th>wage</th>\n",
              "    </tr>\n",
              "  </thead>\n",
              "  <tbody>\n",
              "    <tr>\n",
              "      <th>25</th>\n",
              "      <td>2005</td>\n",
              "      <td>49</td>\n",
              "      <td>1. Male</td>\n",
              "      <td>2. Married</td>\n",
              "      <td>1. White</td>\n",
              "      <td>5. Advanced Degree</td>\n",
              "      <td>2. Middle Atlantic</td>\n",
              "      <td>2. Information</td>\n",
              "      <td>2. &gt;=Very Good</td>\n",
              "      <td>1. Yes</td>\n",
              "      <td>1</td>\n",
              "    </tr>\n",
              "    <tr>\n",
              "      <th>46</th>\n",
              "      <td>2009</td>\n",
              "      <td>35</td>\n",
              "      <td>1. Male</td>\n",
              "      <td>2. Married</td>\n",
              "      <td>1. White</td>\n",
              "      <td>4. College Grad</td>\n",
              "      <td>2. Middle Atlantic</td>\n",
              "      <td>1. Industrial</td>\n",
              "      <td>2. &gt;=Very Good</td>\n",
              "      <td>1. Yes</td>\n",
              "      <td>1</td>\n",
              "    </tr>\n",
              "    <tr>\n",
              "      <th>52</th>\n",
              "      <td>2004</td>\n",
              "      <td>43</td>\n",
              "      <td>1. Male</td>\n",
              "      <td>2. Married</td>\n",
              "      <td>1. White</td>\n",
              "      <td>4. College Grad</td>\n",
              "      <td>2. Middle Atlantic</td>\n",
              "      <td>1. Industrial</td>\n",
              "      <td>2. &gt;=Very Good</td>\n",
              "      <td>1. Yes</td>\n",
              "      <td>1</td>\n",
              "    </tr>\n",
              "    <tr>\n",
              "      <th>76</th>\n",
              "      <td>2003</td>\n",
              "      <td>60</td>\n",
              "      <td>1. Male</td>\n",
              "      <td>2. Married</td>\n",
              "      <td>1. White</td>\n",
              "      <td>4. College Grad</td>\n",
              "      <td>2. Middle Atlantic</td>\n",
              "      <td>1. Industrial</td>\n",
              "      <td>2. &gt;=Very Good</td>\n",
              "      <td>1. Yes</td>\n",
              "      <td>1</td>\n",
              "    </tr>\n",
              "    <tr>\n",
              "      <th>118</th>\n",
              "      <td>2008</td>\n",
              "      <td>38</td>\n",
              "      <td>1. Male</td>\n",
              "      <td>2. Married</td>\n",
              "      <td>1. White</td>\n",
              "      <td>5. Advanced Degree</td>\n",
              "      <td>2. Middle Atlantic</td>\n",
              "      <td>1. Industrial</td>\n",
              "      <td>1. &lt;=Good</td>\n",
              "      <td>1. Yes</td>\n",
              "      <td>1</td>\n",
              "    </tr>\n",
              "  </tbody>\n",
              "</table>\n",
              "</div>"
            ],
            "text/plain": [
              "     year  age      sex      maritl      race           education  \\\n",
              "25   2005   49  1. Male  2. Married  1. White  5. Advanced Degree   \n",
              "46   2009   35  1. Male  2. Married  1. White     4. College Grad   \n",
              "52   2004   43  1. Male  2. Married  1. White     4. College Grad   \n",
              "76   2003   60  1. Male  2. Married  1. White     4. College Grad   \n",
              "118  2008   38  1. Male  2. Married  1. White  5. Advanced Degree   \n",
              "\n",
              "                 region        jobclass          health health_ins  wage  \n",
              "25   2. Middle Atlantic  2. Information  2. >=Very Good     1. Yes     1  \n",
              "46   2. Middle Atlantic   1. Industrial  2. >=Very Good     1. Yes     1  \n",
              "52   2. Middle Atlantic   1. Industrial  2. >=Very Good     1. Yes     1  \n",
              "76   2. Middle Atlantic   1. Industrial  2. >=Very Good     1. Yes     1  \n",
              "118  2. Middle Atlantic   1. Industrial       1. <=Good     1. Yes     1  "
            ]
          },
          "metadata": {
            "tags": []
          },
          "execution_count": 57
        }
      ]
    },
    {
      "metadata": {
        "id": "Ts2Ywig2dB5I",
        "colab_type": "code",
        "outputId": "6e768b93-6733-463c-e54e-7e460a986b12",
        "colab": {}
      },
      "cell_type": "code",
      "source": [
        "print(np.unique(data2.maritl))\n",
        "print(np.unique(data2.race))\n",
        "print(np.unique(data2.education))\n",
        "print(np.unique(data2.region))\n",
        "print(np.unique(data2.jobclass))\n",
        "print(np.unique(data2.health))\n",
        "print(np.unique(data2.health_ins))"
      ],
      "execution_count": 0,
      "outputs": [
        {
          "output_type": "stream",
          "text": [
            "['1. Never Married' '2. Married' '3. Widowed' '4. Divorced' '5. Separated']\n",
            "['1. White' '2. Black' '3. Asian' '4. Other']\n",
            "['1. < HS Grad' '2. HS Grad' '3. Some College' '4. College Grad'\n",
            " '5. Advanced Degree']\n",
            "['2. Middle Atlantic']\n",
            "['1. Industrial' '2. Information']\n",
            "['1. <=Good' '2. >=Very Good']\n",
            "['1. Yes' '2. No']\n"
          ],
          "name": "stdout"
        }
      ]
    },
    {
      "metadata": {
        "id": "qGsZ7iZJdB5U",
        "colab_type": "code",
        "colab": {}
      },
      "cell_type": "code",
      "source": [
        "data2.drop(columns=['year'], inplace=True)"
      ],
      "execution_count": 0,
      "outputs": []
    },
    {
      "metadata": {
        "id": "2DFNP8Y9dB5n",
        "colab_type": "code",
        "colab": {}
      },
      "cell_type": "code",
      "source": [
        "le = preprocessing.LabelEncoder()\n",
        "#le.fit(data2[['sex','maritl','race','education','region','jobclass','health','health_ins']])\n",
        "data2['data2maritl'] = le.fit_transform(data2.maritl)\n",
        "data2['data2race'] = le.fit_transform(data2.race)\n",
        "data2['data2education'] = le.fit_transform(data2.education)\n",
        "data2['data2region'] = le.fit_transform(data2.region)\n",
        "data2['data2jobclass'] = le.fit_transform(data2.jobclass)\n",
        "data2['data2health'] = le.fit_transform(data2.health)\n",
        "data2['data2health_ins'] = le.fit_transform(data2.health_ins)"
      ],
      "execution_count": 0,
      "outputs": []
    },
    {
      "metadata": {
        "id": "bNqJxFVmdB5u",
        "colab_type": "code",
        "colab": {}
      },
      "cell_type": "code",
      "source": [
        "data2.drop(columns=['sex','maritl','race','education','region','jobclass','health','health_ins'],inplace=True)"
      ],
      "execution_count": 0,
      "outputs": []
    },
    {
      "metadata": {
        "id": "TIVrHcnpdB51",
        "colab_type": "code",
        "outputId": "5a53cc30-2ce1-4a04-82d0-ba3801c110f1",
        "colab": {}
      },
      "cell_type": "code",
      "source": [
        "data2.head()"
      ],
      "execution_count": 0,
      "outputs": [
        {
          "output_type": "execute_result",
          "data": {
            "text/html": [
              "<div>\n",
              "<style scoped>\n",
              "    .dataframe tbody tr th:only-of-type {\n",
              "        vertical-align: middle;\n",
              "    }\n",
              "\n",
              "    .dataframe tbody tr th {\n",
              "        vertical-align: top;\n",
              "    }\n",
              "\n",
              "    .dataframe thead th {\n",
              "        text-align: right;\n",
              "    }\n",
              "</style>\n",
              "<table border=\"1\" class=\"dataframe\">\n",
              "  <thead>\n",
              "    <tr style=\"text-align: right;\">\n",
              "      <th></th>\n",
              "      <th>age</th>\n",
              "      <th>wage</th>\n",
              "      <th>data2maritl</th>\n",
              "      <th>data2race</th>\n",
              "      <th>data2education</th>\n",
              "      <th>data2region</th>\n",
              "      <th>data2jobclass</th>\n",
              "      <th>data2health</th>\n",
              "      <th>data2health_ins</th>\n",
              "    </tr>\n",
              "  </thead>\n",
              "  <tbody>\n",
              "    <tr>\n",
              "      <th>25</th>\n",
              "      <td>49</td>\n",
              "      <td>1</td>\n",
              "      <td>1</td>\n",
              "      <td>0</td>\n",
              "      <td>4</td>\n",
              "      <td>0</td>\n",
              "      <td>1</td>\n",
              "      <td>1</td>\n",
              "      <td>0</td>\n",
              "    </tr>\n",
              "    <tr>\n",
              "      <th>46</th>\n",
              "      <td>35</td>\n",
              "      <td>1</td>\n",
              "      <td>1</td>\n",
              "      <td>0</td>\n",
              "      <td>3</td>\n",
              "      <td>0</td>\n",
              "      <td>0</td>\n",
              "      <td>1</td>\n",
              "      <td>0</td>\n",
              "    </tr>\n",
              "    <tr>\n",
              "      <th>52</th>\n",
              "      <td>43</td>\n",
              "      <td>1</td>\n",
              "      <td>1</td>\n",
              "      <td>0</td>\n",
              "      <td>3</td>\n",
              "      <td>0</td>\n",
              "      <td>0</td>\n",
              "      <td>1</td>\n",
              "      <td>0</td>\n",
              "    </tr>\n",
              "    <tr>\n",
              "      <th>76</th>\n",
              "      <td>60</td>\n",
              "      <td>1</td>\n",
              "      <td>1</td>\n",
              "      <td>0</td>\n",
              "      <td>3</td>\n",
              "      <td>0</td>\n",
              "      <td>0</td>\n",
              "      <td>1</td>\n",
              "      <td>0</td>\n",
              "    </tr>\n",
              "    <tr>\n",
              "      <th>118</th>\n",
              "      <td>38</td>\n",
              "      <td>1</td>\n",
              "      <td>1</td>\n",
              "      <td>0</td>\n",
              "      <td>4</td>\n",
              "      <td>0</td>\n",
              "      <td>0</td>\n",
              "      <td>0</td>\n",
              "      <td>0</td>\n",
              "    </tr>\n",
              "  </tbody>\n",
              "</table>\n",
              "</div>"
            ],
            "text/plain": [
              "     age  wage  data2maritl  data2race  data2education  data2region  \\\n",
              "25    49     1            1          0               4            0   \n",
              "46    35     1            1          0               3            0   \n",
              "52    43     1            1          0               3            0   \n",
              "76    60     1            1          0               3            0   \n",
              "118   38     1            1          0               4            0   \n",
              "\n",
              "     data2jobclass  data2health  data2health_ins  \n",
              "25               1            1                0  \n",
              "46               0            1                0  \n",
              "52               0            1                0  \n",
              "76               0            1                0  \n",
              "118              0            0                0  "
            ]
          },
          "metadata": {
            "tags": []
          },
          "execution_count": 16
        }
      ]
    },
    {
      "metadata": {
        "id": "Zb-lg3POdB5_",
        "colab_type": "code",
        "colab": {}
      },
      "cell_type": "code",
      "source": [
        "y = data2.wage\n",
        "data2.drop(columns='wage', inplace=True)\n",
        "X = data2"
      ],
      "execution_count": 0,
      "outputs": []
    },
    {
      "metadata": {
        "id": "LxLnUzsYdB6L",
        "colab_type": "code",
        "outputId": "c58e5f4e-4c97-4928-97d6-2d1abb58165d",
        "colab": {}
      },
      "cell_type": "code",
      "source": [
        "X_train, X_test, y_train, y_test = train_test_split(X, y, random_state = 1, stratify=y)\n",
        "\n",
        "smt = SMOTE()\n",
        "X_train, y_train = smt.fit_sample(X_train, y_train)\n",
        "print('np.bincount(y_train):\\n',np.bincount(y_train),'\\n')"
      ],
      "execution_count": 0,
      "outputs": [
        {
          "output_type": "stream",
          "text": [
            "np.bincount(y_train):\n",
            " [2191 2191] \n",
            "\n"
          ],
          "name": "stdout"
        }
      ]
    },
    {
      "metadata": {
        "id": "aEnCCM3tdB6U",
        "colab_type": "code",
        "outputId": "be4061dc-5363-40db-95a3-8e976a40fccd",
        "colab": {}
      },
      "cell_type": "code",
      "source": [
        "from sklearn.linear_model import LogisticRegression\n",
        "clf = LogisticRegression()\n",
        "clf.fit(X_train, y_train)\n",
        "\n",
        "y_pred = clf.predict(X_test)\n",
        "\n",
        "print('confusion_matrix:\\n',confusion_matrix(y_test, y_pred),'\\n')\n",
        "\n",
        "print('accuracy_score: ',accuracy_score(y_test, y_pred),'\\n')\n",
        "\n",
        "print('recall_score: ',recall_score(y_test, y_pred),'\\n')"
      ],
      "execution_count": 0,
      "outputs": [
        {
          "output_type": "stream",
          "text": [
            "confusion_matrix:\n",
            " [[542 188]\n",
            " [  4  16]] \n",
            "\n",
            "accuracy_score:  0.744 \n",
            "\n",
            "recall_score:  0.8 \n",
            "\n"
          ],
          "name": "stdout"
        }
      ]
    },
    {
      "metadata": {
        "id": "ANFp1I-udB6g",
        "colab_type": "code",
        "outputId": "35a615f1-8f22-4297-9d02-cc3c53f6a283",
        "colab": {}
      },
      "cell_type": "code",
      "source": [
        "#from sklearn.naive_bayes import GaussianNB\n",
        "#clf = GaussianNB()\n",
        "\n",
        "from sklearn.neighbors import KNeighborsClassifier\n",
        "clf = KNeighborsClassifier()\n",
        "clf.fit(X_train, y_train)\n",
        "\n",
        "y_pred = clf.predict(X_test)\n",
        "\n",
        "print('confusion_matrix:\\n',confusion_matrix(y_test, y_pred),'\\n')\n",
        "\n",
        "print('accuracy_score: ',accuracy_score(y_test, y_pred),'\\n')\n",
        "\n",
        "print('recall_score: ',recall_score(y_test, y_pred),'\\n')"
      ],
      "execution_count": 0,
      "outputs": [
        {
          "output_type": "stream",
          "text": [
            "confusion_matrix:\n",
            " [[603 127]\n",
            " [  8  12]] \n",
            "\n",
            "accuracy_score:  0.82 \n",
            "\n",
            "recall_score:  0.6 \n",
            "\n"
          ],
          "name": "stdout"
        }
      ]
    },
    {
      "metadata": {
        "id": "pbuZdK4vdB6p",
        "colab_type": "code",
        "colab": {}
      },
      "cell_type": "code",
      "source": [
        ""
      ],
      "execution_count": 0,
      "outputs": []
    }
  ]
}