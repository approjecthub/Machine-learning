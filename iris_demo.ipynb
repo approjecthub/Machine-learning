{
  "nbformat": 4,
  "nbformat_minor": 0,
  "metadata": {
    "colab": {
      "name": "iris_demo.ipynb",
      "version": "0.3.2",
      "provenance": [],
      "include_colab_link": true
    },
    "language_info": {
      "codemirror_mode": {
        "name": "ipython",
        "version": 3
      },
      "file_extension": ".py",
      "mimetype": "text/x-python",
      "name": "python",
      "nbconvert_exporter": "python",
      "pygments_lexer": "ipython3",
      "version": "3.6.5"
    },
    "kernelspec": {
      "display_name": "Python 3",
      "language": "python",
      "name": "python3"
    }
  },
  "cells": [
    {
      "cell_type": "markdown",
      "metadata": {
        "id": "view-in-github",
        "colab_type": "text"
      },
      "source": [
        "<a href=\"https://colab.research.google.com/github/approjecthub/Machine-learning/blob/master/iris_demo.ipynb\" target=\"_parent\"><img src=\"https://colab.research.google.com/assets/colab-badge.svg\" alt=\"Open In Colab\"/></a>"
      ]
    },
    {
      "cell_type": "code",
      "metadata": {
        "id": "HcRtv_CvUSKa",
        "colab_type": "code",
        "colab": {}
      },
      "source": [
        "import pandas as pd\n",
        "iris = pd.read_csv('https://raw.githubusercontent.com/approjecthub/Machine-learning/master/Datasets/Iris.csv')"
      ],
      "execution_count": 0,
      "outputs": []
    },
    {
      "cell_type": "code",
      "metadata": {
        "id": "Q1abWys3USKn",
        "colab_type": "code",
        "colab": {}
      },
      "source": [
        "#selecting columns that are only features and labels\n",
        "\n",
        "iris_n = iris.drop(iris.columns[5:], axis=1)\n",
        "iris_feature = iris_n.drop('iris', 1)\n",
        "iris_label = iris_n['iris']"
      ],
      "execution_count": 0,
      "outputs": []
    },
    {
      "cell_type": "code",
      "metadata": {
        "id": "W0E53OuYUSKx",
        "colab_type": "code",
        "colab": {}
      },
      "source": [
        "#Converting the datas in numpy array\n",
        "\n",
        "import numpy as np\n",
        "iris_label = np.array(iris_label)\n",
        "iris_feature = np.array(iris_feature)"
      ],
      "execution_count": 0,
      "outputs": []
    },
    {
      "cell_type": "code",
      "metadata": {
        "id": "VNjtgCpHUSK6",
        "colab_type": "code",
        "colab": {}
      },
      "source": [
        "# split the data with 70% in each set\n",
        "\n",
        "from sklearn.model_selection import train_test_split\n",
        "iris_train_feature, iris_test_feature, iris_train_label, iris_test_label = train_test_split(iris_feature,iris_label, random_state=0,\n",
        "                                  train_size=0.7)"
      ],
      "execution_count": 0,
      "outputs": []
    },
    {
      "cell_type": "code",
      "metadata": {
        "id": "HLRgqcecUSLM",
        "colab_type": "code",
        "colab": {}
      },
      "source": [
        "\n",
        "#choose model class\n",
        "from sklearn.naive_bayes import GaussianNB\n",
        "model = GaussianNB()                       \n",
        "\n",
        "#fit model to data\n",
        "model.fit(iris_train_feature,iris_train_label)                  \n",
        "iris_predicted_label = model.predict(iris_test_feature)"
      ],
      "execution_count": 0,
      "outputs": []
    },
    {
      "cell_type": "code",
      "metadata": {
        "id": "3ik6U8lRUSLW",
        "colab_type": "code",
        "colab": {
          "base_uri": "https://localhost:8080/",
          "height": 34
        },
        "outputId": "4923492e-58be-4a73-9498-63c5244ef3eb"
      },
      "source": [
        "from sklearn.metrics import accuracy_score\n",
        "accuracy_score(iris_test_label,iris_predicted_label)"
      ],
      "execution_count": 11,
      "outputs": [
        {
          "output_type": "execute_result",
          "data": {
            "text/plain": [
              "1.0"
            ]
          },
          "metadata": {
            "tags": []
          },
          "execution_count": 11
        }
      ]
    },
    {
      "cell_type": "code",
      "metadata": {
        "id": "bKn4LHLzWn7C",
        "colab_type": "code",
        "colab": {}
      },
      "source": [
        ""
      ],
      "execution_count": 0,
      "outputs": []
    },
    {
      "cell_type": "code",
      "metadata": {
        "id": "ZjoNuGt7WiVA",
        "colab_type": "code",
        "colab": {}
      },
      "source": [
        ""
      ],
      "execution_count": 0,
      "outputs": []
    }
  ]
}