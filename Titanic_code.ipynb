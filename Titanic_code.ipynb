{
  "nbformat": 4,
  "nbformat_minor": 0,
  "metadata": {
    "colab": {
      "name": "Titanic_code.ipynb",
      "version": "0.3.2",
      "provenance": [],
      "include_colab_link": true
    },
    "kernelspec": {
      "name": "python3",
      "display_name": "Python 3"
    }
  },
  "cells": [
    {
      "cell_type": "markdown",
      "metadata": {
        "id": "view-in-github",
        "colab_type": "text"
      },
      "source": [
        "<a href=\"https://colab.research.google.com/github/approjecthub/Machine-learning/blob/master/Titanic_code.ipynb\" target=\"_parent\"><img src=\"https://colab.research.google.com/assets/colab-badge.svg\" alt=\"Open In Colab\"/></a>"
      ]
    },
    {
      "metadata": {
        "id": "dpYVYPC5iiGr",
        "colab_type": "code",
        "colab": {}
      },
      "cell_type": "code",
      "source": [
        "import pandas as pd\n",
        "import numpy as np\n",
        "import matplotlib.pyplot as plt"
      ],
      "execution_count": 0,
      "outputs": []
    },
    {
      "metadata": {
        "id": "7R9Fjlywip4c",
        "colab_type": "code",
        "colab": {}
      },
      "cell_type": "code",
      "source": [
        "titanic = pd.read_csv('https://raw.githubusercontent.com/approjecthub/Machine-learning/master/Datasets/titanic.csv')"
      ],
      "execution_count": 0,
      "outputs": []
    },
    {
      "metadata": {
        "id": "zOvkuRZCjAqr",
        "colab_type": "code",
        "colab": {}
      },
      "cell_type": "code",
      "source": [
        "tf = titanic.drop(['name', 'cabin','home.dest','boat','body','ticket','survived'], axis=1)\n",
        "tl = titanic['survived']"
      ],
      "execution_count": 0,
      "outputs": []
    },
    {
      "metadata": {
        "id": "mwXNPuezjFZM",
        "colab_type": "code",
        "colab": {
          "base_uri": "https://localhost:8080/",
          "height": 34
        },
        "outputId": "50e14403-beff-4206-de69-5e8c0ad95309"
      },
      "cell_type": "code",
      "source": [
        "from collections import Counter \n",
        "Counter(list(tf['embarked'])) "
      ],
      "execution_count": 4,
      "outputs": [
        {
          "output_type": "execute_result",
          "data": {
            "text/plain": [
              "Counter({'C': 270, 'Q': 123, 'S': 914, nan: 3})"
            ]
          },
          "metadata": {
            "tags": []
          },
          "execution_count": 4
        }
      ]
    },
    {
      "metadata": {
        "id": "h-H1jFAojPnm",
        "colab_type": "code",
        "colab": {}
      },
      "cell_type": "code",
      "source": [
        "\n",
        "tf['pclass']=tf['pclass'].fillna(3.0)\n",
        "tf['sex']=tf['sex'].fillna('male')\n",
        "tf['age']=tf['age'].fillna(tf['age'].mean())\n",
        "tf['sibsp']=tf['sibsp'].fillna(0.0)\n",
        "tf['parch']=tf['parch'].fillna(0.0)\n",
        "tf['fare']=tf['fare'].fillna(tf['fare'].mean())\n",
        "tf['embarked']=tf['embarked'].fillna(3.0)"
      ],
      "execution_count": 0,
      "outputs": []
    },
    {
      "metadata": {
        "id": "0PuGAW4kjUtJ",
        "colab_type": "code",
        "colab": {
          "base_uri": "https://localhost:8080/",
          "height": 34
        },
        "outputId": "dc93f76b-3da1-4777-b2ed-99a30803774b"
      },
      "cell_type": "code",
      "source": [
        "tf.columns[tf.isna().any()].tolist()"
      ],
      "execution_count": 6,
      "outputs": [
        {
          "output_type": "execute_result",
          "data": {
            "text/plain": [
              "[]"
            ]
          },
          "metadata": {
            "tags": []
          },
          "execution_count": 6
        }
      ]
    },
    {
      "metadata": {
        "id": "13j1gDoHjXeG",
        "colab_type": "code",
        "colab": {
          "base_uri": "https://localhost:8080/",
          "height": 68
        },
        "outputId": "83ec8dae-6efb-4c16-ba80-96ec7ab1fc11"
      },
      "cell_type": "code",
      "source": [
        "print(tf.head(2))\n",
        "#print(np.unique(tf['embarked']))\n",
        "#print(np.unique(tf['sex']))"
      ],
      "execution_count": 7,
      "outputs": [
        {
          "output_type": "stream",
          "text": [
            "   pclass     sex      age  sibsp  parch      fare embarked\n",
            "0     1.0  female  29.0000    0.0    0.0  211.3375        S\n",
            "1     1.0    male   0.9167    1.0    2.0  151.5500        S\n"
          ],
          "name": "stdout"
        }
      ]
    },
    {
      "metadata": {
        "id": "P77Oj8W3jbys",
        "colab_type": "code",
        "colab": {}
      },
      "cell_type": "code",
      "source": [
        "\n",
        "mapping_sex = {'female': 1, 'male': 2}\n",
        "tf = tf.replace({'sex': mapping_sex})\n",
        "mapping_embarked = {'C':1.,'Q':2.,'S':3.}\n",
        "tf = tf.replace({'embarked':mapping_embarked})"
      ],
      "execution_count": 0,
      "outputs": []
    },
    {
      "metadata": {
        "id": "btZAkVzSjfYE",
        "colab_type": "code",
        "colab": {
          "base_uri": "https://localhost:8080/",
          "height": 68
        },
        "outputId": "872ed8e1-e81e-4a01-831d-0a26226e4209"
      },
      "cell_type": "code",
      "source": [
        "from sklearn.linear_model import LogisticRegression\n",
        "clf = LogisticRegression(random_state=0, solver='lbfgs',\n",
        "                         multi_class='multinomial').fit(np.array(tf[:1000]),list(tl[:1000]))\n",
        "yr = tl[1000:]\n",
        "yp = clf.predict(np.array(tf[1000:]))\n",
        "yr = yr.fillna(0.0)\n",
        "from sklearn.metrics import accuracy_score\n",
        "accuracy_score(yr,yp)"
      ],
      "execution_count": 9,
      "outputs": [
        {
          "output_type": "stream",
          "text": [
            "/usr/local/lib/python3.6/dist-packages/sklearn/linear_model/logistic.py:758: ConvergenceWarning: lbfgs failed to converge. Increase the number of iterations.\n",
            "  \"of iterations.\", ConvergenceWarning)\n"
          ],
          "name": "stderr"
        },
        {
          "output_type": "execute_result",
          "data": {
            "text/plain": [
              "0.7645161290322581"
            ]
          },
          "metadata": {
            "tags": []
          },
          "execution_count": 9
        }
      ]
    },
    {
      "metadata": {
        "id": "uoOKDr2sjkNq",
        "colab_type": "code",
        "colab": {}
      },
      "cell_type": "code",
      "source": [
        ""
      ],
      "execution_count": 0,
      "outputs": []
    }
  ]
}