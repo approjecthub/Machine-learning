{
 "cells": [
  {
   "cell_type": "code",
   "execution_count": 23,
   "metadata": {},
   "outputs": [],
   "source": [
    "import pandas as pd\n",
    "import numpy as np\n",
    "titanic = pd.read_csv('C:/Users/Anirban/Documents/python_programs/Python Data Science/titanic.csv')"
   ]
  },
  {
   "cell_type": "code",
   "execution_count": 26,
   "metadata": {},
   "outputs": [],
   "source": [
    "tf = titanic.drop(['name', 'cabin','home.dest','boat','body','ticket','survived'], axis=1)\n",
    "tl = titanic['survived']"
   ]
  },
  {
   "cell_type": "code",
   "execution_count": 27,
   "metadata": {},
   "outputs": [
    {
     "data": {
      "text/plain": [
       "3"
      ]
     },
     "execution_count": 27,
     "metadata": {},
     "output_type": "execute_result"
    }
   ],
   "source": [
    "tf['embarked'].isna().sum()"
   ]
  },
  {
   "cell_type": "code",
   "execution_count": 28,
   "metadata": {},
   "outputs": [],
   "source": [
    "from collections import Counter \n",
    "Counter(list(tf['embarked'])) \n",
    "tf['pclass']=tf['pclass'].fillna(3.0)\n",
    "tf['sex']=tf['sex'].fillna('male')\n",
    "tf['age']=tf['age'].fillna(tf['age'].mean())\n",
    "tf['sibsp']=tf['sibsp'].fillna(0.0)\n",
    "tf['parch']=tf['parch'].fillna(0.0)\n",
    "tf['fare']=tf['fare'].fillna(tf['fare'].mean())\n",
    "tf['embarked']=tf['embarked'].fillna(3.0)\n"
   ]
  },
  {
   "cell_type": "code",
   "execution_count": 29,
   "metadata": {},
   "outputs": [
    {
     "data": {
      "text/plain": [
       "[]"
      ]
     },
     "execution_count": 29,
     "metadata": {},
     "output_type": "execute_result"
    }
   ],
   "source": [
    "tf.columns[tf.isna().any()].tolist()"
   ]
  },
  {
   "cell_type": "code",
   "execution_count": 30,
   "metadata": {},
   "outputs": [
    {
     "name": "stdout",
     "output_type": "stream",
     "text": [
      "   pclass     sex      age  sibsp  parch      fare embarked\n",
      "0     1.0  female  29.0000    0.0    0.0  211.3375        S\n",
      "1     1.0    male   0.9167    1.0    2.0  151.5500        S\n"
     ]
    }
   ],
   "source": [
    "print(tf.head(2))\n",
    "#print(np.unique(tf['embarked']))\n",
    "#print(np.unique(tf['sex']))"
   ]
  },
  {
   "cell_type": "code",
   "execution_count": 31,
   "metadata": {},
   "outputs": [],
   "source": [
    "mapping_sex = {'female': 1, 'male': 2}\n",
    "tf = tf.replace({'sex': mapping_sex})\n",
    "mapping_embarked = {'C':1.,'Q':2.,'S':3.}\n",
    "tf = tf.replace({'embarked':mapping_embarked})"
   ]
  },
  {
   "cell_type": "code",
   "execution_count": 32,
   "metadata": {},
   "outputs": [
    {
     "data": {
      "text/plain": [
       "0.7677419354838709"
      ]
     },
     "execution_count": 32,
     "metadata": {},
     "output_type": "execute_result"
    }
   ],
   "source": [
    "from sklearn.linear_model import LogisticRegression\n",
    "clf = LogisticRegression(random_state=0, solver='lbfgs',\n",
    "                         multi_class='multinomial').fit(np.array(tf[:1000]),list(tl[:1000]))\n",
    "yr = tl[1000:]\n",
    "yp = clf.predict(np.array(tf[1000:]))\n",
    "yr = yr.fillna(0.0)\n",
    "from sklearn.metrics import accuracy_score\n",
    "accuracy_score(yr,yp)"
   ]
  },
  {
   "cell_type": "code",
   "execution_count": null,
   "metadata": {},
   "outputs": [],
   "source": []
  }
 ],
 "metadata": {
  "kernelspec": {
   "display_name": "Python 3",
   "language": "python",
   "name": "python3"
  },
  "language_info": {
   "codemirror_mode": {
    "name": "ipython",
    "version": 3
   },
   "file_extension": ".py",
   "mimetype": "text/x-python",
   "name": "python",
   "nbconvert_exporter": "python",
   "pygments_lexer": "ipython3",
   "version": "3.6.5"
  }
 },
 "nbformat": 4,
 "nbformat_minor": 2
}
